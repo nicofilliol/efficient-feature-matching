{
 "cells": [
  {
   "cell_type": "markdown",
   "metadata": {},
   "source": [
    "## Data loader testing"
   ]
  },
  {
   "cell_type": "code",
   "execution_count": 1,
   "metadata": {},
   "outputs": [
    {
     "name": "stdout",
     "output_type": "stream",
     "text": [
      "/home/yyjau/Documents/deepSfm_test\n"
     ]
    }
   ],
   "source": [
    "import os\n",
    "import sys\n",
    "module_path = os.path.abspath(os.path.join('..'))\n",
    "if module_path not in sys.path:\n",
    "    sys.path.append(module_path)\n",
    "os.chdir('../')\n",
    "print(os.getcwd())"
   ]
  },
  {
   "cell_type": "code",
   "execution_count": 2,
   "metadata": {},
   "outputs": [
    {
     "data": {
      "text/html": [
       "<style>.container { width:100% !important; }</style>"
      ],
      "text/plain": [
       "<IPython.core.display.HTML object>"
      ]
     },
     "metadata": {},
     "output_type": "display_data"
    }
   ],
   "source": [
    "import numpy as np\n",
    "import matplotlib.pyplot as plt\n",
    "import logging\n",
    "\n",
    "%load_ext autoreload\n",
    "%autoreload 2\n",
    "\n",
    "from IPython.core.display import display, HTML\n",
    "display(HTML(\"<style>.container { width:100% !important; }</style>\"))"
   ]
  },
  {
   "cell_type": "code",
   "execution_count": 3,
   "metadata": {},
   "outputs": [],
   "source": [
    "def loadConfig(filename):\n",
    "    import yaml\n",
    "    with open(filename, 'r') as f:\n",
    "        config = yaml.load(f)\n",
    "    return config\n"
   ]
  },
  {
   "cell_type": "code",
   "execution_count": 4,
   "metadata": {
    "scrolled": false
   },
   "outputs": [
    {
     "name": "stdout",
     "output_type": "stream",
     "text": [
      "env: TMPDIR=tmp/\n",
      "config:  {'data': {'name': 'patches_dataset', 'dataset': 'hpatches', 'alteration': 'all', 'preprocessing': {'resize': [240, 320]}}, 'front_end_model': 'Val_model_heatmap', 'model': {'name': 'SuperPointNet_gauss2', 'params': {}, 'detection_threshold': 0.015, 'batch_size': 1, 'eval_batch_size': 1, 'learning_rate': 0.001, 'nms': 4, 'top_k': 1000, 'nn_thresh': 1.0, 'homography_adaptation': {'num': 0}, 'subpixel': {'enable': True, 'patch_size': 5}, 'rand_noise': {'enable': False, 'sigma': 0.2}, 'pretrained': 'logs/superpoint_coco/checkpoints/superPointNet_180_checkpoint.pth.tar'}, 'eval_iter': 1000}\n"
     ]
    },
    {
     "name": "stderr",
     "output_type": "stream",
     "text": [
      "/home/yyjau/anaconda3/envs/py36-sp/lib/python3.6/site-packages/ipykernel_launcher.py:4: YAMLLoadWarning: calling yaml.load() without Loader=... is deprecated, as the default Loader is unsafe. Please read https://msg.pyyaml.org/load for full details.\n",
      "  after removing the cwd from sys.path.\n"
     ]
    }
   ],
   "source": [
    "# load config\n",
    "logging.basicConfig(format='[%(asctime)s %(levelname)s] %(message)s',\n",
    "                        datefmt='%m/%d/%Y %H:%M:%S', level=logging.INFO)\n",
    "\n",
    "%env TMPDIR=tmp/\n",
    "# filename = 'configs/magicpoint_kitti_train.yaml'\n",
    "# filename = 'configs/superpoint_coco_train_heatmap.yaml'\n",
    "# filename = 'configs/superpoint_kitti_train_heatmap.yaml'\n",
    "# filename = 'configs/magicpoint_coco_export.yaml'\n",
    "# filename = 'configs/magicpoint_shapes.yaml'\n",
    "# filename = 'configs/magicpoint_shapes_pair.yaml'\n",
    "filename = 'configs/magicpoint_repeatability_heatmap.yaml'\n",
    "config = loadConfig(filename)\n",
    "print(\"config: \", config)"
   ]
  },
  {
   "cell_type": "code",
   "execution_count": 8,
   "metadata": {},
   "outputs": [
    {
     "name": "stdout",
     "output_type": "stream",
     "text": [
      "580\n"
     ]
    }
   ],
   "source": [
    "## test set\n",
    "from utils.loader import dataLoader_test as dataLoader\n",
    "task = config['data']['dataset']\n",
    "data = dataLoader(config, dataset=task)\n",
    "test_set, test_loader = data['test_set'], data['test_loader']\n",
    "print(f\"{len(test_set)}\")"
   ]
  },
  {
   "cell_type": "code",
   "execution_count": 6,
   "metadata": {},
   "outputs": [
    {
     "name": "stdout",
     "output_type": "stream",
     "text": [
      "task:  hpatches\n"
     ]
    },
    {
     "ename": "ModuleNotFoundError",
     "evalue": "No module named 'datasets.hpatches'",
     "output_type": "error",
     "traceback": [
      "\u001b[0;31m---------------------------------------------------------------------------\u001b[0m",
      "\u001b[0;31mModuleNotFoundError\u001b[0m                       Traceback (most recent call last)",
      "\u001b[0;32m<ipython-input-6-510d3a16dd42>\u001b[0m in \u001b[0;36m<module>\u001b[0;34m\u001b[0m\n\u001b[1;32m      2\u001b[0m \u001b[0mtask\u001b[0m \u001b[0;34m=\u001b[0m \u001b[0mconfig\u001b[0m\u001b[0;34m[\u001b[0m\u001b[0;34m'data'\u001b[0m\u001b[0;34m]\u001b[0m\u001b[0;34m[\u001b[0m\u001b[0;34m'dataset'\u001b[0m\u001b[0;34m]\u001b[0m\u001b[0;34m\u001b[0m\u001b[0;34m\u001b[0m\u001b[0m\n\u001b[1;32m      3\u001b[0m \u001b[0mprint\u001b[0m\u001b[0;34m(\u001b[0m\u001b[0;34m\"task: \"\u001b[0m\u001b[0;34m,\u001b[0m \u001b[0mtask\u001b[0m\u001b[0;34m)\u001b[0m\u001b[0;34m\u001b[0m\u001b[0;34m\u001b[0m\u001b[0m\n\u001b[0;32m----> 4\u001b[0;31m \u001b[0mdata\u001b[0m \u001b[0;34m=\u001b[0m \u001b[0mdataLoader\u001b[0m\u001b[0;34m(\u001b[0m\u001b[0mconfig\u001b[0m\u001b[0;34m,\u001b[0m \u001b[0mdataset\u001b[0m\u001b[0;34m=\u001b[0m\u001b[0mtask\u001b[0m\u001b[0;34m,\u001b[0m \u001b[0mwarp_input\u001b[0m\u001b[0;34m=\u001b[0m\u001b[0;32mTrue\u001b[0m\u001b[0;34m)\u001b[0m\u001b[0;34m\u001b[0m\u001b[0;34m\u001b[0m\u001b[0m\n\u001b[0m\u001b[1;32m      5\u001b[0m \u001b[0;34m\u001b[0m\u001b[0m\n\u001b[1;32m      6\u001b[0m \u001b[0;31m# data\u001b[0m\u001b[0;34m\u001b[0m\u001b[0;34m\u001b[0m\u001b[0;34m\u001b[0m\u001b[0m\n",
      "\u001b[0;32m~/Documents/deepSfm_test/utils/loader.py\u001b[0m in \u001b[0;36mdataLoader\u001b[0;34m(config, dataset, warp_input, train, val)\u001b[0m\n\u001b[1;32m     85\u001b[0m         \u001b[0;32mfrom\u001b[0m \u001b[0mdatasets\u001b[0m\u001b[0;34m.\u001b[0m\u001b[0mSyntheticDataset_gaussian\u001b[0m \u001b[0;32mimport\u001b[0m \u001b[0mSyntheticDataset\u001b[0m \u001b[0;32mas\u001b[0m \u001b[0mDataset\u001b[0m\u001b[0;34m\u001b[0m\u001b[0;34m\u001b[0m\u001b[0m\n\u001b[1;32m     86\u001b[0m     \u001b[0;32melse\u001b[0m\u001b[0;34m:\u001b[0m\u001b[0;34m\u001b[0m\u001b[0;34m\u001b[0m\u001b[0m\n\u001b[0;32m---> 87\u001b[0;31m         \u001b[0mDataset\u001b[0m \u001b[0;34m=\u001b[0m \u001b[0mget_module\u001b[0m\u001b[0;34m(\u001b[0m\u001b[0;34m'datasets'\u001b[0m\u001b[0;34m,\u001b[0m \u001b[0mdataset\u001b[0m\u001b[0;34m)\u001b[0m\u001b[0;34m\u001b[0m\u001b[0;34m\u001b[0m\u001b[0m\n\u001b[0m\u001b[1;32m     88\u001b[0m         \u001b[0;31m# from datasets.coco import Coco as Dataset\u001b[0m\u001b[0;34m\u001b[0m\u001b[0;34m\u001b[0m\u001b[0;34m\u001b[0m\u001b[0m\n\u001b[1;32m     89\u001b[0m \u001b[0;34m\u001b[0m\u001b[0m\n",
      "\u001b[0;32m~/Documents/deepSfm_test/utils/loader.py\u001b[0m in \u001b[0;36mget_module\u001b[0;34m(path, name)\u001b[0m\n\u001b[1;32m    183\u001b[0m         \u001b[0mmod\u001b[0m \u001b[0;34m=\u001b[0m \u001b[0mimportlib\u001b[0m\u001b[0;34m.\u001b[0m\u001b[0mimport_module\u001b[0m\u001b[0;34m(\u001b[0m\u001b[0mname\u001b[0m\u001b[0;34m)\u001b[0m\u001b[0;34m\u001b[0m\u001b[0;34m\u001b[0m\u001b[0m\n\u001b[1;32m    184\u001b[0m     \u001b[0;32melse\u001b[0m\u001b[0;34m:\u001b[0m\u001b[0;34m\u001b[0m\u001b[0;34m\u001b[0m\u001b[0m\n\u001b[0;32m--> 185\u001b[0;31m         \u001b[0mmod\u001b[0m \u001b[0;34m=\u001b[0m \u001b[0mimportlib\u001b[0m\u001b[0;34m.\u001b[0m\u001b[0mimport_module\u001b[0m\u001b[0;34m(\u001b[0m\u001b[0;34m'{}.{}'\u001b[0m\u001b[0;34m.\u001b[0m\u001b[0mformat\u001b[0m\u001b[0;34m(\u001b[0m\u001b[0mpath\u001b[0m\u001b[0;34m,\u001b[0m \u001b[0mname\u001b[0m\u001b[0;34m)\u001b[0m\u001b[0;34m)\u001b[0m\u001b[0;34m\u001b[0m\u001b[0;34m\u001b[0m\u001b[0m\n\u001b[0m\u001b[1;32m    186\u001b[0m     \u001b[0;32mreturn\u001b[0m \u001b[0mgetattr\u001b[0m\u001b[0;34m(\u001b[0m\u001b[0mmod\u001b[0m\u001b[0;34m,\u001b[0m \u001b[0mname\u001b[0m\u001b[0;34m)\u001b[0m\u001b[0;34m\u001b[0m\u001b[0;34m\u001b[0m\u001b[0m\n\u001b[1;32m    187\u001b[0m \u001b[0;34m\u001b[0m\u001b[0m\n",
      "\u001b[0;32m~/anaconda3/envs/py36-sp/lib/python3.6/importlib/__init__.py\u001b[0m in \u001b[0;36mimport_module\u001b[0;34m(name, package)\u001b[0m\n\u001b[1;32m    124\u001b[0m                 \u001b[0;32mbreak\u001b[0m\u001b[0;34m\u001b[0m\u001b[0;34m\u001b[0m\u001b[0m\n\u001b[1;32m    125\u001b[0m             \u001b[0mlevel\u001b[0m \u001b[0;34m+=\u001b[0m \u001b[0;36m1\u001b[0m\u001b[0;34m\u001b[0m\u001b[0;34m\u001b[0m\u001b[0m\n\u001b[0;32m--> 126\u001b[0;31m     \u001b[0;32mreturn\u001b[0m \u001b[0m_bootstrap\u001b[0m\u001b[0;34m.\u001b[0m\u001b[0m_gcd_import\u001b[0m\u001b[0;34m(\u001b[0m\u001b[0mname\u001b[0m\u001b[0;34m[\u001b[0m\u001b[0mlevel\u001b[0m\u001b[0;34m:\u001b[0m\u001b[0;34m]\u001b[0m\u001b[0;34m,\u001b[0m \u001b[0mpackage\u001b[0m\u001b[0;34m,\u001b[0m \u001b[0mlevel\u001b[0m\u001b[0;34m)\u001b[0m\u001b[0;34m\u001b[0m\u001b[0;34m\u001b[0m\u001b[0m\n\u001b[0m\u001b[1;32m    127\u001b[0m \u001b[0;34m\u001b[0m\u001b[0m\n\u001b[1;32m    128\u001b[0m \u001b[0;34m\u001b[0m\u001b[0m\n",
      "\u001b[0;32m~/anaconda3/envs/py36-sp/lib/python3.6/importlib/_bootstrap.py\u001b[0m in \u001b[0;36m_gcd_import\u001b[0;34m(name, package, level)\u001b[0m\n",
      "\u001b[0;32m~/anaconda3/envs/py36-sp/lib/python3.6/importlib/_bootstrap.py\u001b[0m in \u001b[0;36m_find_and_load\u001b[0;34m(name, import_)\u001b[0m\n",
      "\u001b[0;32m~/anaconda3/envs/py36-sp/lib/python3.6/importlib/_bootstrap.py\u001b[0m in \u001b[0;36m_find_and_load_unlocked\u001b[0;34m(name, import_)\u001b[0m\n",
      "\u001b[0;31mModuleNotFoundError\u001b[0m: No module named 'datasets.hpatches'"
     ]
    }
   ],
   "source": [
    "from utils.loader import dataLoader\n",
    "task = config['data']['dataset']\n",
    "print(\"task: \", task)\n",
    "data = dataLoader(config, dataset=task, warp_input=True)\n",
    "\n",
    "# data\n",
    "train_loader, val_loader = data['train_loader'], data['val_loader']\n",
    "\n",
    "logging.info('== train split size %d in %d batches, val split size %d in %d batches'%\\\n",
    "        (len(train_loader)*config['model']['batch_size'], len(train_loader),\n",
    "         len(val_loader)*config['model']['batch_size'], len(val_loader)))\n",
    "\n"
   ]
  },
  {
   "cell_type": "code",
   "execution_count": 17,
   "metadata": {
    "scrolled": true
   },
   "outputs": [
    {
     "name": "stdout",
     "output_type": "stream",
     "text": [
      "load training samples\n",
      "['image', 'valid_mask', 'labels_2D', 'labels_res', 'warped_labels_gaussian', 'warped_labels_bi', 'warped_img', 'warped_labels', 'warped_res', 'warped_valid_mask', 'homographies', 'inv_homographies', 'labels_2D_gaussian', 'name']\n"
     ]
    }
   ],
   "source": [
    "# val\n",
    "# for i, sample in enumerate(val_loader):\n",
    "#     if i > 1:\n",
    "#         print(list(sample))\n",
    "#         break\n",
    "# train\n",
    "print(\"load training samples\")\n",
    "for i, sample in enumerate(train_loader):\n",
    "    if i > 1:\n",
    "        print(list(sample))\n",
    "        break\n"
   ]
  },
  {
   "cell_type": "code",
   "execution_count": 118,
   "metadata": {},
   "outputs": [],
   "source": [
    "from datasets.data_tools import np_to_tensor"
   ]
  },
  {
   "cell_type": "markdown",
   "metadata": {},
   "source": [
    "## train set (not loader)"
   ]
  },
  {
   "cell_type": "code",
   "execution_count": null,
   "metadata": {},
   "outputs": [],
   "source": []
  },
  {
   "cell_type": "code",
   "execution_count": 8,
   "metadata": {},
   "outputs": [
    {
     "name": "stderr",
     "output_type": "stream",
     "text": [
      "/home/yoyee/Documents/deepSfm/datasets/SyntheticDataset_gaussian.py:410: UserWarning: To copy construct from a tensor, it is recommended to use sourceTensor.clone().detach() or sourceTensor.clone().detach().requires_grad_(True), rather than torch.tensor(sourceTensor).\n",
      "  warped_img = torch.tensor(img, dtype=torch.float32)\n",
      "/home/yoyee/Documents/deepSfm/datasets/data_tools.py:9: UserWarning: To copy construct from a tensor, it is recommended to use sourceTensor.clone().detach() or sourceTensor.clone().detach().requires_grad_(True), rather than torch.tensor(sourceTensor).\n",
      "  pnts = torch.tensor(pnts).long() ### check\n"
     ]
    }
   ],
   "source": [
    "train_set = data['train_set']\n",
    "sample = train_set[0]"
   ]
  },
  {
   "cell_type": "code",
   "execution_count": 9,
   "metadata": {},
   "outputs": [
    {
     "ename": "NameError",
     "evalue": "name 'element' is not defined",
     "output_type": "error",
     "traceback": [
      "\u001b[0;31m---------------------------------------------------------------------------\u001b[0m",
      "\u001b[0;31mNameError\u001b[0m                                 Traceback (most recent call last)",
      "\u001b[0;32m<ipython-input-9-467168d0e3c2>\u001b[0m in \u001b[0;36m<module>\u001b[0;34m\u001b[0m\n\u001b[1;32m      3\u001b[0m         \u001b[0;32mif\u001b[0m \u001b[0mtype\u001b[0m\u001b[0;34m(\u001b[0m\u001b[0melement\u001b[0m\u001b[0;34m)\u001b[0m \u001b[0;32mis\u001b[0m \u001b[0mtorch\u001b[0m\u001b[0;34m.\u001b[0m\u001b[0mTensor\u001b[0m\u001b[0;34m:\u001b[0m\u001b[0;34m\u001b[0m\u001b[0;34m\u001b[0m\u001b[0m\n\u001b[1;32m      4\u001b[0m             \u001b[0msample\u001b[0m\u001b[0;34m[\u001b[0m\u001b[0mi\u001b[0m\u001b[0;34m]\u001b[0m \u001b[0;34m=\u001b[0m \u001b[0msample\u001b[0m\u001b[0;34m[\u001b[0m\u001b[0mi\u001b[0m\u001b[0;34m]\u001b[0m\u001b[0;34m.\u001b[0m\u001b[0munsqueeze\u001b[0m\u001b[0;34m(\u001b[0m\u001b[0mdim\u001b[0m\u001b[0;34m)\u001b[0m\u001b[0;34m\u001b[0m\u001b[0;34m\u001b[0m\u001b[0m\n\u001b[0;32m----> 5\u001b[0;31m \u001b[0munsqueeze_dict\u001b[0m\u001b[0;34m(\u001b[0m\u001b[0msample\u001b[0m\u001b[0;34m,\u001b[0m \u001b[0mdim\u001b[0m\u001b[0;34m=\u001b[0m\u001b[0;36m0\u001b[0m\u001b[0;34m)\u001b[0m\u001b[0;34m\u001b[0m\u001b[0;34m\u001b[0m\u001b[0m\n\u001b[0m",
      "\u001b[0;32m<ipython-input-9-467168d0e3c2>\u001b[0m in \u001b[0;36munsqueeze_dict\u001b[0;34m(sample, dim)\u001b[0m\n\u001b[1;32m      1\u001b[0m \u001b[0;32mdef\u001b[0m \u001b[0munsqueeze_dict\u001b[0m\u001b[0;34m(\u001b[0m\u001b[0msample\u001b[0m\u001b[0;34m,\u001b[0m \u001b[0mdim\u001b[0m\u001b[0;34m=\u001b[0m\u001b[0;36m0\u001b[0m\u001b[0;34m)\u001b[0m\u001b[0;34m:\u001b[0m\u001b[0;34m\u001b[0m\u001b[0;34m\u001b[0m\u001b[0m\n\u001b[1;32m      2\u001b[0m     \u001b[0;32mfor\u001b[0m \u001b[0mi\u001b[0m \u001b[0;32min\u001b[0m \u001b[0mlist\u001b[0m\u001b[0;34m(\u001b[0m\u001b[0msample\u001b[0m\u001b[0;34m)\u001b[0m\u001b[0;34m:\u001b[0m\u001b[0;34m\u001b[0m\u001b[0;34m\u001b[0m\u001b[0m\n\u001b[0;32m----> 3\u001b[0;31m         \u001b[0;32mif\u001b[0m \u001b[0mtype\u001b[0m\u001b[0;34m(\u001b[0m\u001b[0melement\u001b[0m\u001b[0;34m)\u001b[0m \u001b[0;32mis\u001b[0m \u001b[0mtorch\u001b[0m\u001b[0;34m.\u001b[0m\u001b[0mTensor\u001b[0m\u001b[0;34m:\u001b[0m\u001b[0;34m\u001b[0m\u001b[0;34m\u001b[0m\u001b[0m\n\u001b[0m\u001b[1;32m      4\u001b[0m             \u001b[0msample\u001b[0m\u001b[0;34m[\u001b[0m\u001b[0mi\u001b[0m\u001b[0;34m]\u001b[0m \u001b[0;34m=\u001b[0m \u001b[0msample\u001b[0m\u001b[0;34m[\u001b[0m\u001b[0mi\u001b[0m\u001b[0;34m]\u001b[0m\u001b[0;34m.\u001b[0m\u001b[0munsqueeze\u001b[0m\u001b[0;34m(\u001b[0m\u001b[0mdim\u001b[0m\u001b[0;34m)\u001b[0m\u001b[0;34m\u001b[0m\u001b[0;34m\u001b[0m\u001b[0m\n\u001b[1;32m      5\u001b[0m \u001b[0munsqueeze_dict\u001b[0m\u001b[0;34m(\u001b[0m\u001b[0msample\u001b[0m\u001b[0;34m,\u001b[0m \u001b[0mdim\u001b[0m\u001b[0;34m=\u001b[0m\u001b[0;36m0\u001b[0m\u001b[0;34m)\u001b[0m\u001b[0;34m\u001b[0m\u001b[0;34m\u001b[0m\u001b[0m\n",
      "\u001b[0;31mNameError\u001b[0m: name 'element' is not defined"
     ]
    }
   ],
   "source": [
    "def unsqueeze_dict(sample, dim=0):\n",
    "    for i in list(sample):\n",
    "        if type(element) is torch.Tensor:\n",
    "            sample[i] = sample[i].unsqueeze(dim)\n",
    "unsqueeze_dict(sample, dim=0)"
   ]
  },
  {
   "cell_type": "markdown",
   "metadata": {},
   "source": [
    "## visualize data"
   ]
  },
  {
   "cell_type": "code",
   "execution_count": 19,
   "metadata": {},
   "outputs": [],
   "source": [
    "import torch"
   ]
  },
  {
   "cell_type": "code",
   "execution_count": 20,
   "metadata": {},
   "outputs": [
    {
     "name": "stdout",
     "output_type": "stream",
     "text": [
      "shape of  image   torch.Size([4, 1, 384, 1248])\n",
      "shape of  valid_mask   torch.Size([4, 1, 384, 1248])\n",
      "shape of  labels_2D   torch.Size([4, 1, 384, 1248])\n",
      "shape of  labels_res   torch.Size([4, 2, 384, 1248])\n",
      "shape of  warped_labels_gaussian   torch.Size([4, 1, 384, 1248])\n",
      "shape of  warped_labels_bi   torch.Size([4, 1, 384, 1248])\n",
      "shape of  warped_img   torch.Size([4, 1, 384, 1248])\n",
      "shape of  warped_labels   torch.Size([4, 1, 384, 1248])\n",
      "shape of  warped_res   torch.Size([4, 2, 384, 1248])\n",
      "shape of  warped_valid_mask   torch.Size([4, 1, 384, 1248])\n",
      "shape of  homographies   torch.Size([4, 3, 3])\n",
      "shape of  inv_homographies   torch.Size([4, 3, 3])\n",
      "shape of  labels_2D_gaussian   torch.Size([4, 1, 384, 1248])\n"
     ]
    }
   ],
   "source": [
    "# print shape\n",
    "entries = list(sample)\n",
    "for i in entries:\n",
    "    element = sample[i]\n",
    "#     print(type(element))\n",
    "    if type(element) is torch.Tensor:\n",
    "        print(\"shape of \", i, \" \", element.shape)\n",
    "img, labels_2D, mask_2D = sample['image'], sample['labels_2D'], sample['valid_mask']\n"
   ]
  },
  {
   "cell_type": "code",
   "execution_count": 21,
   "metadata": {},
   "outputs": [
    {
     "data": {
      "text/plain": [
       "torch.float32"
      ]
     },
     "execution_count": 21,
     "metadata": {},
     "output_type": "execute_result"
    }
   ],
   "source": [
    "sample['labels_2D_gaussian'].dtype"
   ]
  },
  {
   "cell_type": "code",
   "execution_count": 22,
   "metadata": {
    "scrolled": true
   },
   "outputs": [
    {
     "name": "stdout",
     "output_type": "stream",
     "text": [
      "(384, 1248, 3)\n"
     ]
    },
    {
     "data": {
      "image/png": "[encoded data removed]",
      "text/plain": [
       "<Figure size 432x288 with 1 Axes>"
      ]
     },
     "metadata": {
      "needs_background": "light"
     },
     "output_type": "display_data"
    }
   ],
   "source": [
    "def img_overlap(img_r, img_g, img_gray):  # img_b repeat\n",
    "    img = np.concatenate((img_gray, img_gray, img_gray), axis=0)\n",
    "    img[0, :, :] += img_r[0, :, :]\n",
    "    img[1, :, :] += img_g[0, :, :]\n",
    "    img[img > 1] = 1\n",
    "    img[img < 0] = 0\n",
    "    img = img.transpose([1,2,0])\n",
    "    return img\n",
    "def toNumpy(tensor):\n",
    "    return tensor.detach().cpu().numpy()\n",
    "\n",
    "result_overlap = img_overlap(toNumpy(1 - mask_2D[0,:,:,:]), toNumpy(labels_2D[0, :, :, :]), toNumpy(img[0, :, :, :]))\n",
    "print(result_overlap.shape)\n",
    "\n",
    "plt.imshow(result_overlap)\n",
    "plt.show()"
   ]
  },
  {
   "cell_type": "markdown",
   "metadata": {},
   "source": [
    "## Test gaussian"
   ]
  },
  {
   "cell_type": "code",
   "execution_count": 25,
   "metadata": {
    "scrolled": false
   },
   "outputs": [
    {
     "name": "stdout",
     "output_type": "stream",
     "text": [
      "gaussian:  [[0. 0. 0. ... 0. 0. 0.]\n",
      " [0. 0. 0. ... 0. 0. 0.]\n",
      " [0. 0. 0. ... 0. 0. 0.]\n",
      " ...\n",
      " [0. 0. 0. ... 0. 0. 0.]\n",
      " [0. 0. 0. ... 0. 0. 0.]\n",
      " [0. 0. 0. ... 0. 0. 0.]]\n",
      "kernel size:  0.2\n"
     ]
    },
    {
     "data": {
      "image/png": "[encoded data removed]",
      "text/plain": [
       "<Figure size 432x288 with 1 Axes>"
      ]
     },
     "metadata": {
      "needs_background": "light"
     },
     "output_type": "display_data"
    }
   ],
   "source": [
    "# gauss_map = sample['warped_labels_gaussian']\n",
    "# gauss_map = sample['warped_labels_gaussian']\n",
    "# gauss_map = sample['warped_labels']\n",
    "gauss_map = sample['labels_2D_gaussian']\n",
    "\n",
    "    \n",
    "plt.imshow(toNumpy(gauss_map[0,0,:,:]))\n",
    "print(\"gaussian: \", toNumpy(gauss_map[0,0,:,:]))\n",
    "print(\"kernel size: \", config['data']['gaussian_label']['params']['GaussianBlur']['sigma'])\n",
    "plt.show()"
   ]
  },
  {
   "cell_type": "code",
   "execution_count": 26,
   "metadata": {
    "scrolled": true
   },
   "outputs": [
    {
     "data": {
      "image/png": "[encoded data removed]",
      "text/plain": [
       "<Figure size 432x288 with 1 Axes>"
      ]
     },
     "metadata": {
      "needs_background": "light"
     },
     "output_type": "display_data"
    },
    {
     "data": {
      "image/png": "[encoded data removed]",
      "text/plain": [
       "<Figure size 432x288 with 1 Axes>"
      ]
     },
     "metadata": {
      "needs_background": "light"
     },
     "output_type": "display_data"
    },
    {
     "data": {
      "image/png": "[encoded data removed]",
      "text/plain": [
       "<Figure size 432x288 with 1 Axes>"
      ]
     },
     "metadata": {
      "needs_background": "light"
     },
     "output_type": "display_data"
    },
    {
     "data": {
      "image/png": "[encoded data removed]",
      "text/plain": [
       "<Figure size 432x288 with 1 Axes>"
      ]
     },
     "metadata": {
      "needs_background": "light"
     },
     "output_type": "display_data"
    }
   ],
   "source": [
    "# gauss_map = sample['labels_2D'] # - sample['warped_labels_bi']\n",
    "maps = ['labels_2D', 'labels_2D_gaussian', 'warped_labels', 'warped_labels_gaussian']\n",
    "\n",
    "for m in maps:\n",
    "    gauss_map = sample[m]\n",
    "    plt.imshow(toNumpy(gauss_map[0,0,:,:]))\n",
    "    plt.show()"
   ]
  },
  {
   "cell_type": "code",
   "execution_count": 62,
   "metadata": {
    "scrolled": false
   },
   "outputs": [
    {
     "name": "stdout",
     "output_type": "stream",
     "text": [
      "gaussian:  0.28627452\n"
     ]
    },
    {
     "data": {
      "image/png": "[encoded data removed]",
      "text/plain": [
       "<Figure size 432x288 with 1 Axes>"
      ]
     },
     "metadata": {
      "needs_background": "light"
     },
     "output_type": "display_data"
    }
   ],
   "source": [
    "# gauss_map = sample['warped_labels_gaussian'] - sample['warped_labels']\n",
    "gauss_map = sample['labels_2D_gaussian'] - sample['labels_2D']\n",
    "# gauss_map = sample['warped_labels']\n",
    "\n",
    "plt.imshow(toNumpy(gauss_map[0,0,:,:]))\n",
    "print(\"gaussian: \", toNumpy(gauss_map[0,0,:,:]).max())\n",
    "# print(\"kernel size: \", config['data']['gaussian_label']['sigma'])\n",
    "plt.show()"
   ]
  },
  {
   "cell_type": "code",
   "execution_count": 58,
   "metadata": {
    "scrolled": false
   },
   "outputs": [
    {
     "name": "stdout",
     "output_type": "stream",
     "text": [
      "gaussian:  2.0\n"
     ]
    },
    {
     "data": {
      "image/png": "[encoded data removed]",
      "text/plain": [
       "<Figure size 432x288 with 1 Axes>"
      ]
     },
     "metadata": {
      "needs_background": "light"
     },
     "output_type": "display_data"
    }
   ],
   "source": [
    "from utils.utils import inv_warp_image_batch\n",
    "labels_unwarp = inv_warp_image_batch(sample['warped_labels'], sample['homographies'], mode = 'nearest')\n",
    "# labels_unwarp = inv_warp_image_batch(sample['warped_labels_bi'], sample['homographies'], mode = 'nearest')\n",
    "# gauss_map = labels_unwarp - sample['labels_2D']\n",
    "# gauss_map = sample['labels_2D'] - labels_unwarp\n",
    "gauss_map = labels_unwarp\n",
    "# gauss_map = sample['warped_labels']\n",
    "\n",
    "plt.imshow(toNumpy(gauss_map[0,0,:,:]))\n",
    "print(\"gaussian: \", toNumpy(gauss_map[0,0,:,:]).sum())\n",
    "# print(\"kernel size: \", config['data']['gaussian_label']['sigma'])\n",
    "plt.show()"
   ]
  },
  {
   "cell_type": "code",
   "execution_count": 60,
   "metadata": {},
   "outputs": [
    {
     "name": "stdout",
     "output_type": "stream",
     "text": [
      "gaussian:  -1.0\n"
     ]
    },
    {
     "data": {
      "image/png": "[encoded data removed]",
      "text/plain": [
       "<Figure size 432x288 with 1 Axes>"
      ]
     },
     "metadata": {
      "needs_background": "light"
     },
     "output_type": "display_data"
    }
   ],
   "source": [
    "labels_ununwarp = inv_warp_image_batch(labels_unwarp, sample['inv_homographies'], mode = 'nearest')\n",
    "# labels_unwarp = inv_warp_image_batch(sample['warped_labels_bi'], sample['homographies'], mode = 'nearest')\n",
    "# gauss_map = labels_unwarp - sample['labels_2D']\n",
    "# gauss_map = sample['labels_2D'] - labels_unwarp\n",
    "gauss_map = labels_ununwarp - sample['warped_labels']\n",
    "# gauss_map = sample['warped_labels']\n",
    "\n",
    "plt.imshow(toNumpy(gauss_map[0,0,:,:]))\n",
    "print(\"gaussian: \", toNumpy(gauss_map[0,0,:,:]).sum())\n",
    "# print(\"kernel size: \", config['data']['gaussian_label']['sigma'])\n",
    "plt.show()"
   ]
  },
  {
   "cell_type": "markdown",
   "metadata": {},
   "source": [
    "## check gt patches prediction"
   ]
  },
  {
   "cell_type": "code",
   "execution_count": 27,
   "metadata": {},
   "outputs": [],
   "source": [
    "device='cuda:0'"
   ]
  },
  {
   "cell_type": "code",
   "execution_count": 28,
   "metadata": {},
   "outputs": [
    {
     "name": "stderr",
     "output_type": "stream",
     "text": [
      "/home/yoyee/.local/lib/python3.6/site-packages/ipykernel_launcher.py:3: UserWarning: To copy construct from a tensor, it is recommended to use sourceTensor.clone().detach() or sourceTensor.clone().detach().requires_grad_(True), rather than torch.tensor(sourceTensor).\n",
      "  This is separate from the ipykernel package so we can avoid doing imports until\n"
     ]
    },
    {
     "name": "stdout",
     "output_type": "stream",
     "text": [
      "heatmap:  torch.float32\n",
      "heatmap:  tensor(1.)\n",
      "rois:  torch.int64\n",
      "patches:  torch.Size([1744, 1, 5, 5])\n"
     ]
    }
   ],
   "source": [
    "# uses labels_2D, heatmap\n",
    "# heatmap = gauss_map\n",
    "to_floatTensor = lambda x: torch.tensor(x).type(torch.FloatTensor)\n",
    "\n",
    "# for synthetic data\n",
    "def get_data(mode='coco'):\n",
    "    global labels_2D, heatmap\n",
    "    if mode == 'coco':\n",
    "        labels_2D = to_floatTensor(sample['warped_labels'])\n",
    "        heatmap = to_floatTensor(sample['warped_labels_gaussian'])        \n",
    "#         heatmap = to_floatTensor(sample['warped_labels_bi'])        \n",
    "    else:\n",
    "        labels_2D = to_floatTensor(sample['labels_2D'])\n",
    "        heatmap = to_floatTensor(sample['labels_2D_gaussian'])\n",
    "    \n",
    "        \n",
    "get_data(mode='coco')\n",
    "## crop patches from labels map\n",
    "from utils.losses import pts_to_bbox\n",
    "from utils.losses import _roi_pool\n",
    "\n",
    "patch_size=5\n",
    "points = labels_2D[...].nonzero()\n",
    "rois = pts_to_bbox(points[:,2:], patch_size=patch_size)\n",
    "rois = torch.cat((points[:,:1], rois), dim=1)\n",
    "print(\"heatmap: \", heatmap.dtype)\n",
    "print(\"heatmap: \", heatmap.max())\n",
    "print(\"rois: \", rois.dtype)\n",
    "patches = _roi_pool(heatmap.to(device), rois.to(device), patch_size=patch_size)\n",
    "print(\"patches: \", patches.shape)\n",
    "## softargmax"
   ]
  },
  {
   "cell_type": "code",
   "execution_count": 29,
   "metadata": {},
   "outputs": [
    {
     "name": "stdout",
     "output_type": "stream",
     "text": [
      "patches:  torch.Size([1744, 1, 5, 5])\n"
     ]
    }
   ],
   "source": [
    "## norm the patches\n",
    "import torch.nn as nn\n",
    "def norm_patches(patches):\n",
    "    patches = patches.view(-1, 1, patch_size*patch_size)\n",
    "    d = torch.sum(patches, dim=-1).unsqueeze(-1) + 1e-6\n",
    "    patches = patches/d\n",
    "    patches = patches.view(-1, 1, patch_size, patch_size)\n",
    "    print(\"patches: \", patches.shape)\n",
    "    return patches\n",
    "\n",
    "patches = norm_patches(patches)\n"
   ]
  },
  {
   "cell_type": "code",
   "execution_count": 30,
   "metadata": {
    "scrolled": true
   },
   "outputs": [
    {
     "name": "stdout",
     "output_type": "stream",
     "text": [
      "patches[img_id,0,:,:] max:  0.50592834\n",
      "patches[img_id,0,:,:] sum:  0.9999989\n"
     ]
    },
    {
     "data": {
      "image/png": "[encoded data removed]",
      "text/plain": [
       "<Figure size 432x288 with 1 Axes>"
      ]
     },
     "metadata": {
      "needs_background": "light"
     },
     "output_type": "display_data"
    },
    {
     "name": "stdout",
     "output_type": "stream",
     "text": [
      "patches[img_id,0,:,:] max:  0.52173865\n",
      "patches[img_id,0,:,:] sum:  0.999999\n"
     ]
    },
    {
     "data": {
      "image/png": "[encoded data removed]",
      "text/plain": [
       "<Figure size 432x288 with 1 Axes>"
      ]
     },
     "metadata": {
      "needs_background": "light"
     },
     "output_type": "display_data"
    },
    {
     "name": "stdout",
     "output_type": "stream",
     "text": [
      "patches[img_id,0,:,:] max:  0.59683734\n",
      "patches[img_id,0,:,:] sum:  0.9999989\n"
     ]
    },
    {
     "data": {
      "image/png": "[encoded data removed]",
      "text/plain": [
       "<Figure size 432x288 with 1 Axes>"
      ]
     },
     "metadata": {
      "needs_background": "light"
     },
     "output_type": "display_data"
    },
    {
     "name": "stdout",
     "output_type": "stream",
     "text": [
      "patches[img_id,0,:,:] max:  0.6205528\n",
      "patches[img_id,0,:,:] sum:  0.99999905\n"
     ]
    },
    {
     "data": {
      "image/png": "[encoded data removed]",
      "text/plain": [
       "<Figure size 432x288 with 1 Axes>"
      ]
     },
     "metadata": {
      "needs_background": "light"
     },
     "output_type": "display_data"
    },
    {
     "name": "stdout",
     "output_type": "stream",
     "text": [
      "patches[img_id,0,:,:] max:  0.9169951\n",
      "patches[img_id,0,:,:] sum:  0.9999989\n"
     ]
    },
    {
     "data": {
      "image/png": "[encoded data removed]",
      "text/plain": [
       "<Figure size 432x288 with 1 Axes>"
      ]
     },
     "metadata": {
      "needs_background": "light"
     },
     "output_type": "display_data"
    },
    {
     "name": "stdout",
     "output_type": "stream",
     "text": [
      "patches[img_id,0,:,:] max:  0.59126925\n",
      "patches[img_id,0,:,:] sum:  0.999999\n"
     ]
    },
    {
     "data": {
      "image/png": "[encoded data removed]",
      "text/plain": [
       "<Figure size 432x288 with 1 Axes>"
      ]
     },
     "metadata": {
      "needs_background": "light"
     },
     "output_type": "display_data"
    },
    {
     "name": "stdout",
     "output_type": "stream",
     "text": [
      "patches[img_id,0,:,:] max:  0.5118105\n",
      "patches[img_id,0,:,:] sum:  0.9999989\n"
     ]
    },
    {
     "data": {
      "image/png": "[encoded data removed]",
      "text/plain": [
       "<Figure size 432x288 with 1 Axes>"
      ]
     },
     "metadata": {
      "needs_background": "light"
     },
     "output_type": "display_data"
    },
    {
     "name": "stdout",
     "output_type": "stream",
     "text": [
      "patches[img_id,0,:,:] max:  0.71428496\n",
      "patches[img_id,0,:,:] sum:  0.999999\n"
     ]
    },
    {
     "data": {
      "image/png": "[encoded data removed]",
      "text/plain": [
       "<Figure size 432x288 with 1 Axes>"
      ]
     },
     "metadata": {
      "needs_background": "light"
     },
     "output_type": "display_data"
    },
    {
     "name": "stdout",
     "output_type": "stream",
     "text": [
      "patches[img_id,0,:,:] max:  0.6837938\n",
      "patches[img_id,0,:,:] sum:  0.999999\n"
     ]
    },
    {
     "data": {
      "image/png": "[encoded data removed]",
      "text/plain": [
       "<Figure size 432x288 with 1 Axes>"
      ]
     },
     "metadata": {
      "needs_background": "light"
     },
     "output_type": "display_data"
    },
    {
     "name": "stdout",
     "output_type": "stream",
     "text": [
      "patches[img_id,0,:,:] max:  0.3517783\n",
      "patches[img_id,0,:,:] sum:  0.9999989\n"
     ]
    },
    {
     "data": {
      "image/png": "[encoded data removed]",
      "text/plain": [
       "<Figure size 432x288 with 1 Axes>"
      ]
     },
     "metadata": {
      "needs_background": "light"
     },
     "output_type": "display_data"
    }
   ],
   "source": [
    "# print patches\n",
    "def draw_center(patch, pos):\n",
    "    patch[...,pos,pos] = 1\n",
    "    return patch\n",
    "\n",
    "from utils.var_dim import toNumpy\n",
    "\n",
    "for i in range(10):\n",
    "    img_id = i\n",
    "#     print(\"res (x, y): \", points_res[i])\n",
    "#     plt.imshow(draw_center(toNumpy(patches[img_id,0,:,:]), 4))\n",
    "    p = toNumpy(patches[img_id,0,:,:])\n",
    "    plt.imshow(p)\n",
    "#     print(\"patches[img_id,0,:,:]: \", p)\n",
    "    print(\"patches[img_id,0,:,:] max: \", p.max())\n",
    "    print(\"patches[img_id,0,:,:] sum: \", p.sum())\n",
    "    plt.show()"
   ]
  },
  {
   "cell_type": "code",
   "execution_count": 31,
   "metadata": {},
   "outputs": [
    {
     "name": "stdout",
     "output_type": "stream",
     "text": [
      "labels_warped_res:  torch.Size([4, 2, 384, 1248])\n",
      "points_res:  torch.Size([1744, 2])\n"
     ]
    }
   ],
   "source": [
    "labels_warped_res = sample['warped_res']\n",
    "print(\"labels_warped_res: \", labels_warped_res.shape)\n",
    "# labels_warped_res = sample['warped_labels']\n",
    "# labels_warped_res = sample['labels_res']\n",
    "\n",
    "def ext_from_points(labels_res, points):\n",
    "    labels_res = labels_res.transpose(1,2).transpose(2,3).unsqueeze(1)\n",
    "    points_res = labels_res[points[:,0],points[:,1],points[:,2],points[:,3],:]  # tensor [N, 2]\n",
    "    return points_res\n",
    "    \n",
    "points_res = ext_from_points(labels_warped_res, points)\n",
    "print(\"points_res: \", points_res.shape)\n",
    "\n",
    "# points_res = label_to_points(labels_warped, points)\n",
    "# print(\"labels_warped: \", points_res.shape)"
   ]
  },
  {
   "cell_type": "code",
   "execution_count": 32,
   "metadata": {},
   "outputs": [],
   "source": [
    "## log on patches\n",
    "def do_log(patches):\n",
    "    patches[patches==0] = patches[patches==0] + 1e-6\n",
    "    patches_log = torch.log(patches)\n",
    "    return patches_log\n",
    "\n",
    "# patches_log = do_log(patches)\n",
    "patches_log = do_log(patches)\n",
    "# patches_log = patches\n"
   ]
  },
  {
   "cell_type": "code",
   "execution_count": 33,
   "metadata": {
    "scrolled": true
   },
   "outputs": [
    {
     "name": "stdout",
     "output_type": "stream",
     "text": [
      "points_res:  torch.Size([1744, 2])\n",
      "points_res:  tensor([[ 0.4430,  0.0929],\n",
      "        [ 0.0856, -0.4316],\n",
      "        [ 0.2845, -0.1680],\n",
      "        [ 0.2195, -0.2063],\n",
      "        [ 0.0432, -0.0491],\n",
      "        [ 0.2867, -0.1757],\n",
      "        [-0.1508,  0.3987],\n",
      "        [-0.0365, -0.2638],\n",
      "        [-0.0719,  0.2680],\n",
      "        [-0.3165, -0.4850]])\n",
      "dxdy:  torch.Size([1744, 2])\n",
      "dxdy:  tensor([[ 0.4427,  0.0909],\n",
      "        [ 0.0830, -0.4308],\n",
      "        [ 0.2846, -0.1660],\n",
      "        [ 0.2174, -0.2055],\n",
      "        [ 0.0395, -0.0435],\n",
      "        [ 0.2857, -0.1706],\n",
      "        [-0.1496,  0.3976],\n",
      "        [-0.0317, -0.2619],\n",
      "        [-0.0672,  0.2648],\n",
      "        [-0.3162, -0.4862]], device='cuda:0')\n",
      "errors:  tensor([0.0067, 0.0049])\n",
      "var:  tensor([0.0751, 0.0480])\n",
      "dxdy:  torch.Size([1744, 2])\n",
      "dxdy:  tensor([[ 0.2213,  0.0455],\n",
      "        [ 0.0415, -0.2154],\n",
      "        [ 0.1423, -0.0830],\n",
      "        [ 0.1087, -0.1028],\n",
      "        [ 0.0198, -0.0217],\n",
      "        [ 0.1429, -0.0853],\n",
      "        [-0.0748,  0.1988],\n",
      "        [-0.0159, -0.1309],\n",
      "        [-0.0336,  0.1324],\n",
      "        [-0.1581, -0.2431]], device='cuda:0')\n",
      "errors:  tensor([0.1249, 0.1283])\n",
      "var:  tensor([0.0845, 0.0774])\n"
     ]
    }
   ],
   "source": [
    "from utils.losses import soft_argmax_2d\n",
    "## point residual\n",
    "print(\"points_res: \", points_res.shape)\n",
    "print(\"points_res: \", points_res[:10])\n",
    "# print(\"points_res sum: \", points_res.sum())\n",
    "\n",
    "## no norm\n",
    "dxdy = soft_argmax_2d(patches_log, normalized_coordinates=False) # tensor [B, N, patch, patch]\n",
    "dxdy = dxdy.squeeze(1) # tensor [N, 2]\n",
    "dxdy = dxdy-patch_size//2\n",
    "print(\"dxdy: \", dxdy.shape)\n",
    "print(\"dxdy: \", dxdy[:10])\n",
    "num = 500\n",
    "print(\"errors: \", abs(dxdy[:num].cpu() - points_res[:num].cpu()).mean(dim=0))\n",
    "print(\"var: \", abs(dxdy[:num].cpu() - points_res[:num].cpu()).std(dim=0))\n",
    "# \n",
    "dxdy = soft_argmax_2d(patches_log, normalized_coordinates=True) # tensor [B, N, patch, patch]\n",
    "dxdy = dxdy.squeeze(1) # tensor [N, 2]\n",
    "print(\"dxdy: \", dxdy.shape)\n",
    "print(\"dxdy: \", dxdy[:10])\n",
    "print(\"errors: \", abs(dxdy[:num].cpu() - points_res[:num].cpu()).mean(dim=0))\n",
    "print(\"var: \", abs(dxdy[:num].cpu() - points_res[:num].cpu()).std(dim=0))\n"
   ]
  },
  {
   "cell_type": "code",
   "execution_count": 34,
   "metadata": {},
   "outputs": [
    {
     "name": "stdout",
     "output_type": "stream",
     "text": [
      "dxdy:  tensor([[[2.5000, 2.0000]]])\n"
     ]
    },
    {
     "data": {
      "text/plain": [
       "<matplotlib.image.AxesImage at 0x7f2bb538bf98>"
      ]
     },
     "execution_count": 34,
     "metadata": {},
     "output_type": "execute_result"
    },
    {
     "data": {
      "image/png": "[encoded data removed]",
      "text/plain": [
       "<Figure size 432x288 with 1 Axes>"
      ]
     },
     "metadata": {
      "needs_background": "light"
     },
     "output_type": "display_data"
    }
   ],
   "source": [
    "patch_test = torch.zeros((1,1,5,5))\n",
    "patch_test[0,0,2,2] = 1\n",
    "patch_test[0,0,2,3] = 1\n",
    "patches_log = do_log(patch_test)\n",
    "dxdy = soft_argmax_2d(patches_log, normalized_coordinates=False)\n",
    "print(\"dxdy: \", dxdy)\n",
    "\n",
    "plt.imshow(patch_test[0,0].numpy())"
   ]
  },
  {
   "cell_type": "code",
   "execution_count": 35,
   "metadata": {},
   "outputs": [
    {
     "ename": "NameError",
     "evalue": "name 'create_meshgrid' is not defined",
     "output_type": "error",
     "traceback": [
      "\u001b[0;31m---------------------------------------------------------------------------\u001b[0m",
      "\u001b[0;31mNameError\u001b[0m                                 Traceback (most recent call last)",
      "\u001b[0;32m<ipython-input-35-cdff15ed031c>\u001b[0m in \u001b[0;36m<module>\u001b[0;34m\u001b[0m\n\u001b[1;32m     23\u001b[0m     \u001b[0;32mreturn\u001b[0m \u001b[0moutput\u001b[0m\u001b[0;34m.\u001b[0m\u001b[0mview\u001b[0m\u001b[0;34m(\u001b[0m\u001b[0mbatch_size\u001b[0m\u001b[0;34m,\u001b[0m \u001b[0mchannels\u001b[0m\u001b[0;34m,\u001b[0m \u001b[0;36m2\u001b[0m\u001b[0;34m)\u001b[0m  \u001b[0;31m# BxNx2\u001b[0m\u001b[0;34m\u001b[0m\u001b[0;34m\u001b[0m\u001b[0m\n\u001b[1;32m     24\u001b[0m \u001b[0;34m\u001b[0m\u001b[0m\n\u001b[0;32m---> 25\u001b[0;31m \u001b[0mout_argmax\u001b[0m \u001b[0;34m=\u001b[0m \u001b[0mtest_soft_argmax\u001b[0m\u001b[0;34m(\u001b[0m\u001b[0mpatches\u001b[0m\u001b[0;34m)\u001b[0m\u001b[0;34m\u001b[0m\u001b[0;34m\u001b[0m\u001b[0m\n\u001b[0m",
      "\u001b[0;32m<ipython-input-35-cdff15ed031c>\u001b[0m in \u001b[0;36mtest_soft_argmax\u001b[0;34m(input)\u001b[0m\n\u001b[1;32m     11\u001b[0m \u001b[0;34m\u001b[0m\u001b[0m\n\u001b[1;32m     12\u001b[0m     \u001b[0;31m# create coordinates grid\u001b[0m\u001b[0;34m\u001b[0m\u001b[0;34m\u001b[0m\u001b[0;34m\u001b[0m\u001b[0m\n\u001b[0;32m---> 13\u001b[0;31m     \u001b[0mpos_y\u001b[0m\u001b[0;34m,\u001b[0m \u001b[0mpos_x\u001b[0m \u001b[0;34m=\u001b[0m \u001b[0mcreate_meshgrid\u001b[0m\u001b[0;34m(\u001b[0m\u001b[0minput\u001b[0m\u001b[0;34m,\u001b[0m \u001b[0mself\u001b[0m\u001b[0;34m.\u001b[0m\u001b[0mnormalized_coordinates\u001b[0m\u001b[0;34m)\u001b[0m\u001b[0;34m\u001b[0m\u001b[0;34m\u001b[0m\u001b[0m\n\u001b[0m\u001b[1;32m     14\u001b[0m     \u001b[0mpos_x\u001b[0m \u001b[0;34m=\u001b[0m \u001b[0mpos_x\u001b[0m\u001b[0;34m.\u001b[0m\u001b[0mreshape\u001b[0m\u001b[0;34m(\u001b[0m\u001b[0;34m-\u001b[0m\u001b[0;36m1\u001b[0m\u001b[0;34m)\u001b[0m\u001b[0;34m\u001b[0m\u001b[0;34m\u001b[0m\u001b[0m\n\u001b[1;32m     15\u001b[0m     \u001b[0mpos_y\u001b[0m \u001b[0;34m=\u001b[0m \u001b[0mpos_y\u001b[0m\u001b[0;34m.\u001b[0m\u001b[0mreshape\u001b[0m\u001b[0;34m(\u001b[0m\u001b[0;34m-\u001b[0m\u001b[0;36m1\u001b[0m\u001b[0;34m)\u001b[0m\u001b[0;34m\u001b[0m\u001b[0;34m\u001b[0m\u001b[0m\n",
      "\u001b[0;31mNameError\u001b[0m: name 'create_meshgrid' is not defined"
     ]
    }
   ],
   "source": [
    "def test_soft_argmax(input):\n",
    "    batch_size, channels, height, width = input.shape\n",
    "#     x: torch.Tensor = input.view(batch_size, channels, -1)\n",
    "\n",
    "    # compute softmax with max substraction trick\n",
    "#     exp_x = torch.exp(x - torch.max(x, dim=-1, keepdim=True)[0])\n",
    "    exp_x = input\n",
    "    eps = 1e-6\n",
    "    exp_x_sum = torch.tensor(\n",
    "        1.0) / (exp_x.sum(dim=-1, keepdim=True) + eps)\n",
    "\n",
    "    # create coordinates grid\n",
    "    pos_y, pos_x = create_meshgrid(input, self.normalized_coordinates)\n",
    "    pos_x = pos_x.reshape(-1)\n",
    "    pos_y = pos_y.reshape(-1)\n",
    "\n",
    "    # compute the expected coordinates\n",
    "    expected_y: torch.Tensor = torch.sum(\n",
    "        (pos_y * exp_x) * exp_x_sum, dim=-1, keepdim=True)\n",
    "    expected_x: torch.Tensor = torch.sum(\n",
    "        (pos_x * exp_x) * exp_x_sum, dim=-1, keepdim=True)\n",
    "    output: torch.Tensor = torch.cat([expected_x, expected_y], dim=-1)\n",
    "    return output.view(batch_size, channels, 2)  # BxNx2\n",
    "\n",
    "out_argmax = test_soft_argmax(patches)"
   ]
  },
  {
   "cell_type": "markdown",
   "metadata": {},
   "source": [
    "## test labels 3D"
   ]
  },
  {
   "cell_type": "code",
   "execution_count": 73,
   "metadata": {},
   "outputs": [
    {
     "name": "stdout",
     "output_type": "stream",
     "text": [
      "labels_3D:  torch.Size([16, 64, 15, 20])\n",
      "labels_3D sum:  torch.Size([15, 20])\n",
      "labels_3D sum:  tensor([[0.0000, 0.0000, 0.0000, 0.0000, 0.0000, 0.8863, 0.0824, 0.0000, 0.0000,\n",
      "         0.9843, 0.0000, 0.0000, 0.0000, 0.0000, 0.0000, 0.0000, 0.0000, 0.0000,\n",
      "         0.0000, 0.0000],\n",
      "        [0.0000, 0.0000, 0.9804, 0.0000, 0.0000, 0.0157, 0.0000, 0.0000, 0.0000,\n",
      "         0.0000, 0.0000, 0.0000, 0.0000, 0.0000, 0.0000, 0.0000, 0.0000, 0.0000,\n",
      "         0.0000, 0.0000],\n",
      "        [0.0000, 0.0000, 0.0000, 0.0000, 0.0000, 0.0000, 0.0000, 0.0000, 0.0000,\n",
      "         0.0000, 0.8824, 0.0000, 0.0000, 0.0000, 0.0000, 0.0000, 0.0000, 0.0000,\n",
      "         0.0000, 0.0000],\n",
      "        [0.0000, 0.0000, 0.0000, 0.7882, 0.0275, 0.0000, 0.0000, 0.9961, 0.0000,\n",
      "         0.0000, 0.0980, 0.0000, 0.0000, 0.0000, 0.0000, 0.0000, 0.0000, 0.0000,\n",
      "         0.0000, 0.0000],\n",
      "        [0.9882, 0.0000, 0.0000, 0.1608, 0.0039, 0.0000, 0.0000, 0.0000, 0.0000,\n",
      "         0.0000, 0.0000, 0.0000, 0.0000, 0.0000, 0.0000, 0.0000, 0.0000, 0.0000,\n",
      "         0.0000, 0.0000],\n",
      "        [0.0000, 0.0000, 0.0000, 0.0000, 0.0000, 0.0000, 0.0000, 0.0000, 0.0000,\n",
      "         0.0000, 0.0000, 0.0000, 0.9765, 0.0000, 0.0000, 0.0000, 0.0000, 0.0000,\n",
      "         0.0000, 0.0000],\n",
      "        [0.0000, 0.0000, 0.0000, 0.0000, 0.0000, 0.9922, 0.0000, 0.0000, 0.9725,\n",
      "         0.0000, 0.0000, 0.0000, 0.0000, 0.0000, 0.0000, 0.0000, 0.0000, 0.0000,\n",
      "         0.0000, 0.0000],\n",
      "        [0.0000, 0.9922, 0.0000, 0.0000, 0.0000, 0.0000, 0.0000, 0.0000, 0.0000,\n",
      "         0.0000, 0.0000, 0.0000, 0.0000, 0.0000, 0.0000, 0.0000, 0.0000, 0.0000,\n",
      "         0.0000, 0.0000],\n",
      "        [0.0000, 0.0000, 0.0000, 0.0000, 0.0000, 0.0000, 0.0000, 0.0000, 0.0000,\n",
      "         0.0000, 0.0471, 0.0000, 0.0000, 0.9098, 0.0745, 0.0000, 0.0000, 0.0000,\n",
      "         0.0000, 0.0000],\n",
      "        [0.0000, 0.0000, 0.0000, 0.0000, 0.0000, 0.0000, 0.9804, 0.0000, 0.0000,\n",
      "         0.0000, 0.9412, 0.0000, 0.0000, 0.0000, 0.0000, 0.0000, 0.0000, 0.0000,\n",
      "         0.0000, 0.0000],\n",
      "        [0.0000, 0.0000, 0.7843, 0.2039, 0.0000, 0.0000, 0.0000, 0.0000, 0.0000,\n",
      "         0.0000, 0.0000, 0.0000, 0.0000, 0.0000, 0.0000, 0.0000, 0.0000, 0.0000,\n",
      "         0.0000, 0.0000],\n",
      "        [0.0000, 0.0000, 0.0000, 0.0000, 0.0000, 0.0000, 0.0000, 0.0000, 0.0000,\n",
      "         0.0000, 0.0000, 0.0000, 0.0000, 0.0000, 0.0000, 0.9843, 0.0000, 0.0000,\n",
      "         0.0000, 0.0000],\n",
      "        [0.0000, 0.0000, 0.0000, 0.0000, 0.0000, 0.0000, 0.0000, 0.0000, 0.9255,\n",
      "         0.0000, 0.0000, 0.8824, 0.0980, 0.0000, 0.0000, 0.0000, 0.0000, 0.0000,\n",
      "         0.0000, 0.0000],\n",
      "        [0.0667, 0.0000, 0.0000, 0.0000, 0.9843, 0.0000, 0.0000, 0.0000, 0.0549,\n",
      "         0.0000, 0.0000, 0.0000, 0.0000, 0.0000, 0.0000, 0.0000, 0.0000, 0.0000,\n",
      "         0.0000, 0.0000],\n",
      "        [0.9176, 0.0000, 0.0000, 0.0000, 0.0000, 0.0000, 0.0000, 0.0000, 0.0000,\n",
      "         0.0000, 0.0000, 0.0000, 0.0000, 0.0000, 0.0000, 0.0000, 0.0000, 0.0000,\n",
      "         0.0000, 0.0000]])\n"
     ]
    }
   ],
   "source": [
    "from utils.d2s import DepthToSpace, SpaceToDepth\n",
    "\n",
    "labels_2D = sample['labels_2D_gaussian']\n",
    "space2depth = SpaceToDepth(8)\n",
    "labels_3D = space2depth(labels_2D)\n",
    "\n",
    "print(\"labels_3D: \", labels_3D.shape)\n",
    "labels_sum = labels_3D[2].sum(dim=0)\n",
    "print(\"labels_3D sum: \", labels_sum.shape)\n",
    "print(\"labels_3D sum: \", labels_sum)"
   ]
  },
  {
   "cell_type": "markdown",
   "metadata": {},
   "source": [
    "## test on train_set"
   ]
  },
  {
   "cell_type": "code",
   "execution_count": null,
   "metadata": {
    "scrolled": true
   },
   "outputs": [],
   "source": []
  },
  {
   "cell_type": "markdown",
   "metadata": {},
   "source": [
    "## test residual map"
   ]
  },
  {
   "cell_type": "code",
   "execution_count": null,
   "metadata": {},
   "outputs": [],
   "source": [
    "# syn\n",
    "# labels_warped_res = sample['labels_res']\n",
    "# warped_labels = sample['labels_2D']\n",
    "# warped_img = sample['image']\n",
    "\n",
    "# coco\n",
    "labels_warped_res = sample['warped_res']\n",
    "warped_labels = sample['warped_labels']\n",
    "warped_img = sample['warped_img']"
   ]
  },
  {
   "cell_type": "code",
   "execution_count": null,
   "metadata": {
    "scrolled": true
   },
   "outputs": [],
   "source": [
    "img_id = 0\n",
    "\n",
    "print(\"labels_warped_res: \", labels_warped_res.sum())\n",
    "print(\"labels_warped_res: \", labels_warped_res.shape)\n",
    "res_img = torch.norm(labels_warped_res, dim=1)\n",
    "plt.imshow(toNumpy(res_img[img_id,:,:]))\n",
    "plt.show()\n",
    "\n",
    "# warped_labels\n",
    "plt.imshow(toNumpy(warped_labels[img_id,0,:,:]))\n",
    "plt.show()\n",
    "\n",
    "\n",
    "# warped image\n",
    "plt.imshow(toNumpy(warped_img[img_id,0,:,:]))\n",
    "plt.show()\n",
    "\n"
   ]
  },
  {
   "cell_type": "code",
   "execution_count": null,
   "metadata": {
    "scrolled": true
   },
   "outputs": [],
   "source": [
    "def subpixel_loss(labels_2D, labels_res, pred_heatmap, batch_size, patch_size=7):\n",
    "    \"\"\"\n",
    "    \n",
    "    \"\"\"\n",
    "    # \n",
    "    def pts_to_bbox(points, patch_size):  \n",
    "        \"\"\"\n",
    "        input: \n",
    "            points: (y, x)\n",
    "        output:\n",
    "            bbox: (x1, y1, x2, y2)\n",
    "        \"\"\"\n",
    "\n",
    "        shift_l = patch_size / 2\n",
    "        shift_r = patch_size - shift_l\n",
    "#         bbox = torch.stack((points-shift_l, points+shift_r), dim=1)\n",
    "        pts_l = points-shift_l\n",
    "        pts_r = points+shift_r+1\n",
    "        bbox = torch.stack((pts_l[:,1], pts_l[:,0], pts_r[:,1], pts_r[:,0]), dim=1)\n",
    "        return bbox\n",
    "        pass\n",
    "    # roi pooling\n",
    "    def _roi_pool(pred_heatmap, rois):\n",
    "        from utils.roi_pool import RoIPool  # noqa: E402\n",
    "        m = RoIPool(patch_size, 1.0)\n",
    "        patches = m(pred_heatmap, rois.float())\n",
    "        return patches\n",
    "    \n",
    "    # soft argmax\n",
    "    def _soft_argmax(patches):\n",
    "        from models.SubpixelNet import SubpixelNet as subpixNet\n",
    "        dxdy = subpixNet.soft_argmax_2d(patches) # tensor [B, N, patch, patch]\n",
    "        dxdy = dxdy.squeeze(1) # tensor [N, 2]\n",
    "        return dxdy\n",
    "    \n",
    "    def print_var(points):\n",
    "        print(\"points: \", points.shape)\n",
    "        print(\"points: \", points)\n",
    "        pass\n",
    "   \n",
    "    points = labels_2D[...].nonzero()\n",
    "    labels_res = labels_res.transpose(1,2).transpose(2,3).unsqueeze(1)\n",
    "    rois = pts_to_bbox(points[:,2:], patch_size)\n",
    "    # filter out??\n",
    "    rois = torch.cat((points[:,:1], rois), dim=1)\n",
    "    points_res = labels_res[points[:,0],points[:,1],points[:,2],points[:,3],:]  # tensor [N, 2]\n",
    "#     print_var(rois)\n",
    "#     print_var(labels_res)\n",
    "#     print_var(points)\n",
    "#     print(\"points max: \", points.max(dim=0))\n",
    "#     print_var(labels_2D)\n",
    "#     print_var(points_res)\n",
    "    \n",
    "\n",
    "    patches = _roi_pool(pred_heatmap, rois)\n",
    "    # get argsoft max\n",
    "    dxdy = _soft_argmax(patches)\n",
    "\n",
    "    loss = (points_res - dxdy)\n",
    "#     loss = torch.norm(loss, p=2, dim=-1)\n",
    "#     loss = loss.sum()\n",
    "#     print(\"loss: \", loss)\n",
    "    return patches, points_res, dxdy, loss\n",
    "    pass\n",
    "\n",
    "patch_size = 8\n",
    "device='cuda:0'\n",
    "outs = subpixel_loss(warped_labels.to(device), labels_warped_res.to(device), warped_img.to(device), 8, patch_size=patch_size)\n",
    "patches, points_res, dxdy = outs[0], outs[1], outs[2]\n",
    "for i in range(10):\n",
    "    img_id = i\n",
    "    def draw_center(patch):\n",
    "        patch[...,3,3] = 1\n",
    "        return patch\n",
    "        \n",
    "    print(\"softmax dxdy (y, x): \", dxdy[i])\n",
    "    print(\"points_res (y, x): \", points_res[i])\n",
    "#     plt.imshow(toNumpy(patches[img_id,0,:,:]))\n",
    "    plt.imshow(toNumpy(draw_center(patches[img_id,0,:,:])))\n",
    "    plt.show()\n",
    "\n",
    "outs = subpixel_loss(warped_labels.to(device), labels_warped_res.to(device), res_img.unsqueeze(1).to(device), 8, patch_size=patch_size)\n",
    "patches, points_res = outs[0], outs[1]\n",
    "for i in range(10):\n",
    "    img_id = i\n",
    "    plt.imshow(toNumpy(patches[img_id,0,:,:]))\n",
    "    plt.show()"
   ]
  },
  {
   "cell_type": "code",
   "execution_count": null,
   "metadata": {},
   "outputs": [],
   "source": [
    "from utils.losses import subpixel_loss as loss_f\n",
    "loss = loss_f(warped_labels.to(device), labels_warped_res.to(device), warped_labels.to(device), patch_size=11)\n",
    "print(\"loss: \", loss)"
   ]
  },
  {
   "cell_type": "code",
   "execution_count": null,
   "metadata": {
    "scrolled": false
   },
   "outputs": [],
   "source": [
    "from utils.losses import subpixel_loss_no_argmax as loss_f\n",
    "loss = loss_f(warped_labels.to(device), labels_warped_res.to(device), warped_labels.to(device), patch_size=11)\n",
    "print(\"loss: \", loss)"
   ]
  },
  {
   "cell_type": "code",
   "execution_count": null,
   "metadata": {},
   "outputs": [],
   "source": [
    "def get_model(path, name):\n",
    "    mod = __import__('{}'.format(path), fromlist=[''])\n",
    "    return getattr(mod, name)\n",
    "get_model('utils.losses', 'subpixel_loss_no_argmax')"
   ]
  },
  {
   "cell_type": "code",
   "execution_count": null,
   "metadata": {},
   "outputs": [],
   "source": [
    "from models.SubpixelNet import SubpixelNet\n",
    "net = SubpixelNet(subpixel_channel=1)"
   ]
  },
  {
   "cell_type": "markdown",
   "metadata": {},
   "source": [
    "### Test predicting flow on pixels"
   ]
  },
  {
   "cell_type": "code",
   "execution_count": null,
   "metadata": {},
   "outputs": [],
   "source": [
    "print(\"labels_2D: \", labels_2D.shape)\n",
    "print(\"labels_2D sum: \", labels_2D.sum())\n",
    "print(\"warped_img: \", warped_img.shape)\n",
    "img_warp = warped_img"
   ]
  },
  {
   "cell_type": "code",
   "execution_count": null,
   "metadata": {},
   "outputs": [],
   "source": [
    "# extract the patches from labels \n",
    "label_idx = labels_2D[...].nonzero()\n",
    "from utils.losses import extract_patches\n",
    "patches = extract_patches(label_idx.to(device), img_warp.to(device), patch_size=32) # tensor [N, patch_size, patch_size]\n",
    "# patches = extract_patches(label_idx.to(device), labels_2D.to(device), patch_size=15) # tensor [N, patch_size, patch_size]\n",
    "print(\"patches: \", patches.shape)\n",
    "\n",
    "def label_to_points(labels_res, points):\n",
    "    labels_res = labels_res.transpose(1,2).transpose(2,3).unsqueeze(1)\n",
    "    points_res = labels_res[points[:,0],points[:,1],points[:,2],points[:,3],:]  # tensor [N, 2]\n",
    "    return points_res\n",
    "    \n",
    "points_res = label_to_points(labels_warped_res, label_idx)\n",
    "print(\"points_res: \", points_res.shape)\n",
    "\n",
    "for i in range(10):\n",
    "    img_id = i\n",
    "    plt.imshow(toNumpy(patches[img_id,0,:,:]))\n",
    "    plt.show()"
   ]
  },
  {
   "cell_type": "markdown",
   "metadata": {},
   "source": [
    "### Testing"
   ]
  },
  {
   "cell_type": "code",
   "execution_count": null,
   "metadata": {},
   "outputs": [],
   "source": [
    "from utils.loader import get_module\n",
    "train_model_frontend = get_module('', 'Train_model_subpixel')"
   ]
  },
  {
   "cell_type": "code",
   "execution_count": null,
   "metadata": {},
   "outputs": [],
   "source": [
    "'{}.{}'.format('path', 'name')\n",
    "import importlib\n",
    "name = 'Train_model_subpixel'\n",
    "mod = importlib.import_module(name)\n",
    "getattr(mod, name)"
   ]
  },
  {
   "cell_type": "markdown",
   "metadata": {},
   "source": [
    "## Visualize warped images (for joint training)"
   ]
  },
  {
   "cell_type": "code",
   "execution_count": null,
   "metadata": {},
   "outputs": [],
   "source": []
  },
  {
   "cell_type": "code",
   "execution_count": null,
   "metadata": {},
   "outputs": [],
   "source": [
    "# entries = ['image', 'labels_2D', 'valid_mask', 'overlay']\n",
    "# entries = ['warped_img', 'warped_labels', 'warped_valid_mask', 'overlay']\n",
    "entries = ['image', 'warped_img']\n",
    "cols = len(entries)\n",
    "scale = 5\n"
   ]
  },
  {
   "cell_type": "code",
   "execution_count": null,
   "metadata": {
    "scrolled": true
   },
   "outputs": [],
   "source": [
    "# show images\n",
    "images_num = config['model']['batch_size']\n",
    "col_row_ratio = 2\n",
    "iter_max = 2\n",
    "rows = images_num + 1\n",
    "\n",
    "task_folder = ['matching']\n",
    "print(\"load training samples\")\n",
    "for it, sample in enumerate(train_loader):\n",
    "    # break if max iteration\n",
    "    print(\"iter: \", it)\n",
    "    \n",
    "    if it > iter_max:\n",
    "        print(list(sample))\n",
    "        break\n",
    "    plt.figure(figsize=(cols*col_row_ratio*scale, rows*scale))    \n",
    "    count = 1   \n",
    "    for i in range(images_num):\n",
    "        for j in range(cols):\n",
    "    #         exp_path = Path(base_path, folder[j], prediction, task_folder[0])\n",
    "    #         path = exp_path / (str(i) + 'm.png')\n",
    "    #         image = load_as_float(path)\n",
    "#             print(entries[j])\n",
    "\n",
    "            if entries[j] == 'overlay':\n",
    "                img, labels_2D, mask_2D = sample[entries[0]], sample[entries[1]], sample[entries[2]]\n",
    "                image = img_overlap(toNumpy(1 - mask_2D[i,:,:,:]), \n",
    "                    toNumpy(labels_2D[i, :, :, :]), toNumpy(img[i, :, :, :]))\n",
    "            else:\n",
    "                image = sample[entries[j]][i,0,:,:]\n",
    "                image = image.numpy()\n",
    "#                 print(\"image: \", image.shape)\n",
    "#             print(\"count: \", count)\n",
    "#             print(\"rows: \", rows)\n",
    "#             print(\"cols: \", cols)\n",
    "            plt.subplot(rows, cols, count)\n",
    "            count += 1\n",
    "            \n",
    "            plt.axis('off')\n",
    "            plt.title(entries[j] + '/' + str(i))\n",
    "#             print(\"image: \", image)\n",
    "            plt.imshow(image, cmap='gray')\n",
    "            plt.tight_layout()\n",
    "    plt.show()"
   ]
  },
  {
   "cell_type": "code",
   "execution_count": null,
   "metadata": {},
   "outputs": [],
   "source": []
  },
  {
   "cell_type": "code",
   "execution_count": null,
   "metadata": {
    "scrolled": true
   },
   "outputs": [],
   "source": [
    "print(\"load validation samples\")\n",
    "for it, sample in enumerate(val_loader):\n",
    "    # break if max iteration\n",
    "    print(\"iter: \", it)\n",
    "    \n",
    "    if it > iter_max:\n",
    "        print(list(sample))\n",
    "        break\n",
    "    plt.figure(figsize=(cols*col_row_ratio*scale, rows*scale))    \n",
    "    count = 1   \n",
    "    for i in range(images_num):\n",
    "        for j in range(cols):\n",
    "    #         exp_path = Path(base_path, folder[j], prediction, task_folder[0])\n",
    "    #         path = exp_path / (str(i) + 'm.png')\n",
    "    #         image = load_as_float(path)\n",
    "#             print(entries[j])\n",
    "\n",
    "            if entries[j] == 'overlay':\n",
    "                img, labels_2D, mask_2D = sample[entries[0]], sample[entries[1]], sample[entries[2]]\n",
    "                image = img_overlap(toNumpy(1 - mask_2D[i,:,:,:]), \n",
    "                    toNumpy(labels_2D[i, :, :, :]), toNumpy(img[i, :, :, :]))\n",
    "            else:\n",
    "                image = sample[entries[j]][i,0,:,:]\n",
    "                image = image.numpy()\n",
    "#                 print(\"image: \", image.shape)\n",
    "#             print(\"count: \", count)\n",
    "#             print(\"rows: \", rows)\n",
    "#             print(\"cols: \", cols)\n",
    "            plt.subplot(rows, cols, count)\n",
    "            count += 1\n",
    "            \n",
    "            plt.axis('off')\n",
    "            plt.title(entries[j] + '/' + str(i))\n",
    "#             print(\"image: \", image)\n",
    "            plt.imshow(image, cmap='gray')\n",
    "            plt.tight_layout()\n",
    "    plt.show()"
   ]
  },
  {
   "cell_type": "markdown",
   "metadata": {},
   "source": [
    "## Visualize images w/o homography augmentation"
   ]
  },
  {
   "cell_type": "code",
   "execution_count": null,
   "metadata": {},
   "outputs": [],
   "source": [
    "# entries = ['image', 'labels_2D', 'valid_mask', 'overlay']\n",
    "entries = ['warped_img', 'warped_labels', 'warped_valid_mask', 'overlay']\n",
    "cols = len(entries)\n",
    "scale = 10\n"
   ]
  },
  {
   "cell_type": "code",
   "execution_count": null,
   "metadata": {
    "scrolled": false
   },
   "outputs": [],
   "source": [
    "# show images\n",
    "count = 1\n",
    "images_num = 2\n",
    "col_row_ratio = 3\n",
    "rows = images_num\n",
    "plt.figure(figsize=(cols*col_row_ratio*scale, rows*scale))\n",
    "\n",
    "task_folder = ['matching']\n",
    "for i in range(images_num):\n",
    "    for j in range(cols):\n",
    "#         exp_path = Path(base_path, folder[j], prediction, task_folder[0])\n",
    "#         path = exp_path / (str(i) + 'm.png')\n",
    "#         image = load_as_float(path)\n",
    "        print(entries[j])\n",
    "\n",
    "        if entries[j] == 'overlay':\n",
    "            img, labels_2D, mask_2D = sample[entries[0]], sample[entries[1]], sample[entries[2]]\n",
    "            image = img_overlap(toNumpy(1 - mask_2D[i,:,:,:]), \n",
    "                toNumpy(labels_2D[i, :, :, :]), toNumpy(img[i, :, :, :]))\n",
    "        else:\n",
    "            image = sample[entries[j]][i,0,:,:]\n",
    "            image = image.numpy()\n",
    "        plt.subplot(rows, cols, count)\n",
    "        count += 1\n",
    "        plt.axis('off')\n",
    "        plt.title(entries[j] + '/' + str(i))\n",
    "        plt.imshow(image, cmap='gray')\n",
    "        plt.tight_layout()\n",
    "plt.show()"
   ]
  },
  {
   "cell_type": "code",
   "execution_count": null,
   "metadata": {},
   "outputs": [],
   "source": [
    "mask_2D.shape"
   ]
  },
  {
   "cell_type": "markdown",
   "metadata": {},
   "source": [
    "## Homography Adaptation"
   ]
  },
  {
   "cell_type": "code",
   "execution_count": null,
   "metadata": {},
   "outputs": [],
   "source": [
    "# data loading\n",
    "from utils.loader import dataLoader_test as dataLoader\n",
    "# data = dataLoader(config, dataset='hpatches')\n",
    "export_task = config['data']['export_folder']\n",
    "\n",
    "data = dataLoader(config, dataset=task, export_task=export_task)\n",
    "test_set, test_loader = data['test_set'], data['test_loader']\n"
   ]
  },
  {
   "cell_type": "code",
   "execution_count": null,
   "metadata": {
    "scrolled": true
   },
   "outputs": [],
   "source": [
    "# @torch.no_grad()\n",
    "from tqdm import tqdm\n",
    "from utils.utils import img_overlap, toNumpy\n",
    "\n",
    "device = 'cpu'\n",
    "\n",
    "count = 1\n",
    "images_num = 2\n",
    "col_row_ratio = 1\n",
    "rows = 10\n",
    "cols = 10\n",
    "scale = 5\n",
    "iter_max = 0\n",
    "plt.figure(figsize=(cols*col_row_ratio*scale, rows*scale))\n",
    "plot_inputs = True\n",
    "\n",
    "for i, sample in tqdm(enumerate(test_loader)):\n",
    "    img, mask_2D = sample['image'], sample['valid_mask']\n",
    "    img = img.transpose(0,1)\n",
    "    img_2D = img.numpy().squeeze()\n",
    "    mask_2D = mask_2D.transpose(0,1)\n",
    "    mask_2D_numpy = mask_2D.numpy()\n",
    "\n",
    "    inv_homographies, homographies = sample['homographies'], sample['inv_homographies']\n",
    "    img, mask_2D, homographies, inv_homographies = img.to(device), mask_2D.to(device), \\\n",
    "                                                   homographies.to(device), inv_homographies.to(device)\n",
    "    \n",
    "    def plotImg(rows, cols, count, image, name=''):\n",
    "        plt.subplot(rows, cols, count)\n",
    "        count += 1\n",
    "\n",
    "        plt.axis('off')\n",
    "        plt.title(name + '/' + str(i))\n",
    "        print(\"image: \", image.shape)\n",
    "        plt.imshow(image)\n",
    "        plt.tight_layout()\n",
    "    print(\"img_2D: \", img_2D.shape)\n",
    "    print(\"mask_2D: \", mask_2D.shape)\n",
    "    \n",
    "    if plot_inputs:\n",
    "        for j in range(img.shape[0]):\n",
    "            image = img_overlap((1 - mask_2D_numpy[j,:,:]), \n",
    "                    np.zeros_like(img_2D[j,:,:]), img_2D[j,:,:])\n",
    "            plotImg(rows, cols, count, image.transpose([1,2,0]),'warped-')\n",
    "            count += 1\n",
    "    def homography_adaptation(heatmap, inv_homographies, mask_2D, config):\n",
    "        from utils.utils import inv_warp_image_batch\n",
    "\n",
    "        ## multiply heatmap with mask_2D\n",
    "        heatmap = heatmap*mask_2D\n",
    "\n",
    "        heatmap = inv_warp_image_batch(heatmap, inv_homographies[0,:,:,:], device=device, mode='bilinear')\n",
    "\n",
    "        ##### check\n",
    "        mask_2D = inv_warp_image_batch(mask_2D, inv_homographies[0,:,:,:], device=device, mode='bilinear')\n",
    "        heatmap = torch.sum(heatmap, dim=0)\n",
    "        mask_2D = torch.sum(mask_2D, dim=0)\n",
    "        return heatmap/mask_2D\n",
    "    pass\n",
    "    image = homography_adaptation(img, inv_homographies, mask_2D, config)\n",
    "    print(\"image: \", image.shape)\n",
    "#     plotImg(rows, cols, count, toNumpy(image), name='')\n",
    "    \n",
    "    if i>iter_max: break"
   ]
  },
  {
   "cell_type": "code",
   "execution_count": null,
   "metadata": {},
   "outputs": [],
   "source": [
    "# plotImg(rows, cols, count, toNumpy(image).squeeze(), name='')\n",
    "image_np = toNumpy(image).squeeze()\n",
    "plt.imshow(image_np)"
   ]
  },
  {
   "cell_type": "code",
   "execution_count": null,
   "metadata": {},
   "outputs": [],
   "source": [
    "image"
   ]
  },
  {
   "cell_type": "code",
   "execution_count": null,
   "metadata": {},
   "outputs": [],
   "source": [
    "image"
   ]
  },
  {
   "cell_type": "code",
   "execution_count": null,
   "metadata": {},
   "outputs": [],
   "source": [
    "m = mask_2D_numpy[j,:,:]\n",
    "image = img_overlap((1 - mask_2D_numpy[j,:,:]), \n",
    "        np.zeros_like(img_2D[j,:,:]), img_2D[j,:,:])\n",
    "print(\"m: \", m.shape)\n",
    "print(\"image: \", image.shape)\n",
    "plt.imshow(image.transpose([1,2,0]))\n",
    "plt.show()\n",
    "\n"
   ]
  },
  {
   "cell_type": "code",
   "execution_count": null,
   "metadata": {},
   "outputs": [],
   "source": [
    "# show homography adaptation images\n",
    "# show images\n",
    "images_num = config['data']['homography_adaptation']['num']\n",
    "col_row_ratio = 2\n",
    "iter_max = 20\n",
    "rows = images_num + 1\n",
    "\n",
    "task_folder = ['matching']\n",
    "print(\"load training samples\")\n",
    "for it, sample in enumerate(train_loader):\n",
    "    # break if max iteration\n",
    "    print(\"iter: \", it)\n",
    "    \n",
    "    if it > iter_max:\n",
    "        print(list(sample))\n",
    "        break\n",
    "    plt.figure(figsize=(cols*col_row_ratio*scale, rows*scale))    \n",
    "    count = 1   \n",
    "    for i in range(images_num):\n",
    "        for j in range(cols):\n",
    "    #         exp_path = Path(base_path, folder[j], prediction, task_folder[0])\n",
    "    #         path = exp_path / (str(i) + 'm.png')\n",
    "    #         image = load_as_float(path)\n",
    "#             print(entries[j])\n",
    "\n",
    "            if entries[j] == 'overlay':\n",
    "                img, labels_2D, mask_2D = sample[entries[0]], sample[entries[1]], sample[entries[2]]\n",
    "                image = img_overlap(toNumpy(1 - mask_2D[i,:,:,:]), \n",
    "                    toNumpy(labels_2D[i, :, :, :]), toNumpy(img[i, :, :, :]))\n",
    "            else:\n",
    "                image = sample[entries[j]][i,0,:,:]\n",
    "                image = image.numpy()\n",
    "#                 print(\"image: \", image.shape)\n",
    "#             print(\"count: \", count)\n",
    "#             print(\"rows: \", rows)\n",
    "#             print(\"cols: \", cols)\n",
    "            plt.subplot(rows, cols, count)\n",
    "            count += 1\n",
    "            \n",
    "            plt.axis('off')\n",
    "            plt.title(entries[j] + '/' + str(i))\n",
    "#             print(\"image: \", image)\n",
    "            plt.imshow(image, cmap='gray')\n",
    "            plt.tight_layout()\n",
    "    plt.show()"
   ]
  },
  {
   "cell_type": "code",
   "execution_count": null,
   "metadata": {},
   "outputs": [],
   "source": [
    "try:\n",
    "    path = config['pretrained']\n",
    "    print('==> Loading pre-trained network.')\n",
    "    print('path: ', path)\n",
    "    # This class runs the SuperPoint network and processes its outputs.\n",
    "\n",
    "    fe = SuperPointFrontend_torch(weights_path=path,\n",
    "                            nms_dist=nms_dist,\n",
    "                            conf_thresh=conf_thresh,\n",
    "                            nn_thresh=nn_thresh,\n",
    "                            cuda=False,\n",
    "                            device=device)\n",
    "    print('==> Successfully loaded pre-trained network.')\n",
    "\n",
    "    fe.net_parallel()\n",
    "    print(path)\n",
    "    # save to files\n",
    "    save_file = save_output / \"export.txt\"\n",
    "    with open(save_file, \"a\") as myfile:\n",
    "        myfile.write(\"load model: \" + path + '\\n')\n",
    "except Exception:\n",
    "    pass"
   ]
  },
  {
   "cell_type": "code",
   "execution_count": null,
   "metadata": {},
   "outputs": [],
   "source": []
  },
  {
   "cell_type": "code",
   "execution_count": null,
   "metadata": {},
   "outputs": [],
   "source": []
  }
 ],
 "metadata": {
  "kernelspec": {
   "display_name": "py36-sp",
   "language": "python",
   "name": "py36-sp"
  },
  "language_info": {
   "codemirror_mode": {
    "name": "ipython",
    "version": 3
   },
   "file_extension": ".py",
   "mimetype": "text/x-python",
   "name": "python",
   "nbconvert_exporter": "python",
   "pygments_lexer": "ipython3",
   "version": "3.6.9"
  }
 },
 "nbformat": 4,
 "nbformat_minor": 2
}
