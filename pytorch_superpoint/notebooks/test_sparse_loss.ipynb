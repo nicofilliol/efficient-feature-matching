{
 "cells": [
  {
   "cell_type": "markdown",
   "metadata": {},
   "source": [
    "# Non-correspondences"
   ]
  },
  {
   "cell_type": "code",
   "execution_count": 1,
   "metadata": {},
   "outputs": [
    {
     "name": "stdout",
     "output_type": "stream",
     "text": [
      "/home/yoyee/Documents/deepSfm\n"
     ]
    },
    {
     "data": {
      "text/html": [
       "<style>.container { width:100% !important; }</style>"
      ],
      "text/plain": [
       "<IPython.core.display.HTML object>"
      ]
     },
     "metadata": {},
     "output_type": "display_data"
    },
    {
     "name": "stdout",
     "output_type": "stream",
     "text": [
      "/home/yoyee/Documents/deepSfm\n"
     ]
    }
   ],
   "source": [
    "import os\n",
    "import sys\n",
    "module_path = os.path.abspath(os.path.join('..'))\n",
    "if module_path not in sys.path:\n",
    "    sys.path.append(module_path)\n",
    "print(module_path)\n",
    "%matplotlib inline\n",
    "from IPython.core.display import display, HTML\n",
    "display(HTML(\"<style>.container { width:100% !important; }</style>\"))\n",
    "os.chdir('../')\n",
    "print(os.getcwd())"
   ]
  },
  {
   "cell_type": "code",
   "execution_count": 2,
   "metadata": {},
   "outputs": [],
   "source": [
    "%matplotlib inline\n",
    "%load_ext autoreload\n",
    "%autoreload 2\n",
    "# import dense_correspondence_manipulation.utils.utils as utils\n",
    "# utils.add_dense_correspondence_to_python_path()\n",
    "import utils.correspondence_tools.correspondence_plotter as correspondence_plotter\n",
    "import utils.correspondence_tools.correspondence_finder as correspondence_finder\n",
    "# from dense_correspondence.dataset.spartan_dataset_masked import SpartanDataset\n",
    "import os\n",
    "import numpy as np\n",
    "import torch\n",
    "import time\n"
   ]
  },
  {
   "cell_type": "code",
   "execution_count": 3,
   "metadata": {},
   "outputs": [
    {
     "name": "stdout",
     "output_type": "stream",
     "text": [
      "uv_a_matches:  (tensor([1.]), tensor([1.]))\n",
      "matches_a:  tensor([31.])\n"
     ]
    }
   ],
   "source": [
    "def uvto1d(points, H):\n",
    "    # assert points.dim == 2\n",
    "#     print(\"points: \", points[0])\n",
    "#     print(\"H: \", H)\n",
    "    return points[0]*H + points[1]\n",
    "\n",
    "H, W = 30, 40\n",
    "uv_a_matches = (torch.tensor(np.array([1]), dtype=torch.float32), \n",
    "                torch.tensor(np.array([1]), dtype=torch.float32))\n",
    "matches_a = uv_a_matches[0]*H + uv_a_matches[1]\n",
    "matches_a = uvto1d(uv_a_matches, H)\n",
    "print(\"uv_a_matches: \", uv_a_matches)\n",
    "print(\"matches_a: \", matches_a)\n",
    "\n",
    "uv_b_matches = (torch.tensor(np.array([1]), dtype=torch.float32), \n",
    "                torch.tensor(np.array([1]), dtype=torch.float32))\n",
    "matches_b = uvto1d(uv_b_matches, H)\n",
    "\n",
    "img_b_shape = (H, W)\n",
    "img_a_shape = img_b_shape\n",
    "\n",
    "# image_a_pred\n"
   ]
  },
  {
   "cell_type": "code",
   "execution_count": 4,
   "metadata": {},
   "outputs": [
    {
     "name": "stdout",
     "output_type": "stream",
     "text": [
      "0.003054380416870117 seconds for non-matches\n",
      "torch.Size([1, 10])\n",
      "tensor(0.)\n",
      "tensor(0.)\n",
      "tensor(39.)\n",
      "tensor(28.)\n"
     ]
    }
   ],
   "source": [
    "# num_attempts = 5\n",
    "\n",
    "# img_a_index = dataset.get_random_image_index(scene)\n",
    "# img_a_rgb, img_a_depth, _, img_a_pose = dataset.get_rgbd_mask_pose(scene, img_a_index)\n",
    "\n",
    "# img_b_index = dataset.get_img_idx_with_different_pose(scene, img_a_pose, num_attempts=50)\n",
    "# img_b_rgb, img_b_depth, _, img_b_pose = dataset.get_rgbd_mask_pose(scene, img_b_index)\n",
    "\n",
    "# img_a_depth_numpy = np.asarray(img_a_depth)\n",
    "# img_b_depth_numpy = np.asarray(img_b_depth)\n",
    "\n",
    "# start = time.time()\n",
    "# uv_a, uv_b = correspondence_finder.batch_find_pixel_correspondences(img_a_depth_numpy, img_a_pose, \n",
    "#                                                                     img_b_depth_numpy, img_b_pose,\n",
    "#                                                                     num_attempts=num_attempts,\n",
    "#                                                                     device='CPU')\n",
    "\n",
    "\n",
    "start = time.time()\n",
    "# uv_b_non_matches = correspondence_finder.create_non_correspondences(uv_b, img_a_depth_numpy.shape, num_non_matches_per_match=10)\n",
    "uv_b_non_matches = correspondence_finder.create_non_correspondences(uv_b_matches, img_b_shape, num_non_matches_per_match=10, img_b_mask=None)\n",
    "print  (time.time() - start, \"seconds for non-matches\")\n",
    "if uv_b_non_matches is not None:\n",
    "    print (uv_b_non_matches[0].shape)\n",
    "\n",
    "    import torch\n",
    "    # This just checks to make sure nothing is out of bounds\n",
    "    print (torch.min(uv_b_non_matches[0]))\n",
    "    print (torch.min(uv_b_non_matches[1]))\n",
    "    print (torch.max(uv_b_non_matches[0]))\n",
    "    print (torch.max(uv_b_non_matches[1]))\n",
    "    \n",
    "#     fig, axes = correspondence_plotter.plot_correspondences_direct(img_a_rgb, img_a_depth_numpy, img_b_rgb, img_b_depth_numpy, uv_a, uv_b, show=False)\n",
    "#     uv_a_long = (torch.t(uv_a[0].repeat(3, 1)).contiguous().view(-1,1), torch.t(uv_a[1].repeat(3, 1)).contiguous().view(-1,1))\n",
    "#     uv_b_non_matches_long = (uv_b_non_matches[0].view(-1,1), uv_b_non_matches[1].view(-1,1) )\n",
    "#     correspondence_plotter.plot_correspondences_direct(img_a_rgb, img_a_depth_numpy, img_b_rgb, img_b_depth_numpy, uv_a_long, uv_b_non_matches_long, use_previous_plot=(fig,axes),\n",
    "#                                                   circ_color='r')\n"
   ]
  },
  {
   "cell_type": "code",
   "execution_count": 5,
   "metadata": {},
   "outputs": [
    {
     "name": "stdout",
     "output_type": "stream",
     "text": [
      "uv_a_matches  (tensor([1.]), tensor([1.]))\n",
      "img_a_shape  (30, 40)\n",
      "non_matches_a:  tensor([[ 135.,  353.,   35.,  235., 1047.,  324.,  338.,  508.,  238.,   10.]])\n"
     ]
    }
   ],
   "source": [
    "print(\"uv_a_matches \", uv_a_matches)\n",
    "print(\"img_a_shape \", img_a_shape)\n",
    "uv_a_non_matches = correspondence_finder.create_non_correspondences(uv_a_matches, img_a_shape, num_non_matches_per_match=10, img_b_mask=None)\n",
    "uv_b_non_matches = correspondence_finder.create_non_correspondences(uv_b_matches, img_b_shape, num_non_matches_per_match=10, img_b_mask=None)\n",
    "\n",
    "non_matches_a = uvto1d(uv_a_non_matches, H)\n",
    "non_matches_b = uvto1d(uv_b_non_matches, H)\n",
    "\n",
    "print(\"non_matches_a: \", non_matches_a)\n",
    "\n",
    "# uv_b_non_matches # (u, v)\n"
   ]
  },
  {
   "cell_type": "code",
   "execution_count": 6,
   "metadata": {},
   "outputs": [
    {
     "data": {
      "text/plain": [
       "tensor([1.])"
      ]
     },
     "execution_count": 6,
     "metadata": {},
     "output_type": "execute_result"
    }
   ],
   "source": [
    "torch.tensor(np.array([1]), dtype=torch.float32)"
   ]
  },
  {
   "cell_type": "code",
   "execution_count": 7,
   "metadata": {},
   "outputs": [],
   "source": [
    "from utils.loss_functions.pixelwise_contrastive_loss import PixelwiseContrastiveLoss\n"
   ]
  },
  {
   "cell_type": "code",
   "execution_count": 8,
   "metadata": {},
   "outputs": [],
   "source": [
    "def pltImshow(img):\n",
    "    from matplotlib import pyplot as plt\n",
    "    plt.imshow(img)\n",
    "    plt.show()"
   ]
  },
  {
   "cell_type": "code",
   "execution_count": 9,
   "metadata": {
    "scrolled": true
   },
   "outputs": [],
   "source": [
    "D = 3\n",
    "# image_a = torch.tensor(np.random.rand(H, W), dtype=torch.float32)\n",
    "# image_b = torch.tensor(np.random.rand(H, W), dtype=torch.float32)\n",
    "\n",
    "image_a_pred = torch.tensor(np.random.rand(1, H*W, D), dtype=torch.float32)\n",
    "image_b_pred = torch.tensor(np.random.rand(1, H*W, D), dtype=torch.float32)\n",
    "\n",
    "# pltImshow(image_a.numpy())\n",
    "# pltImshow(image_b.numpy())\n",
    "# print(\"image_a_pred: \", ))\n",
    "\n"
   ]
  },
  {
   "cell_type": "code",
   "execution_count": 10,
   "metadata": {
    "scrolled": true
   },
   "outputs": [
    {
     "name": "stdout",
     "output_type": "stream",
     "text": [
      "match_loss:  tensor(0.0957)\n",
      "matches_a_descriptors:  torch.Size([1, 1, 1, 3])\n",
      "matches_b_descriptors:  torch.Size([1, 1, 1, 3])\n",
      "non_match_loss:  tensor([0., 0., 0., 0., 0., 0., 0., 0., 0., 0.])\n",
      "num_hard_negatives:  0\n",
      "non_matches_a_descriptors:  torch.Size([10, 3])\n"
     ]
    }
   ],
   "source": [
    "alpha = 0.5\n",
    "\n",
    "match_loss, matches_a_descriptors, matches_b_descriptors = \\\n",
    "    PixelwiseContrastiveLoss.match_loss(image_a_pred, image_b_pred, matches_a.long(), matches_b.long())\n",
    "non_match_loss, num_hard_negatives, non_matches_a_descriptors, non_matches_b_descriptors = \\\n",
    "    PixelwiseContrastiveLoss.non_match_descriptor_loss(image_a_pred, image_b_pred, \n",
    "                                                   non_matches_a.long().squeeze(), non_matches_b.long().squeeze())\n",
    "\n",
    "\n",
    "print(\"match_loss: \", match_loss)\n",
    "print(\"matches_a_descriptors: \", matches_a_descriptors.shape)\n",
    "print(\"matches_b_descriptors: \", matches_b_descriptors.shape)\n",
    "\n",
    "print(\"non_match_loss: \", non_match_loss)\n",
    "print(\"num_hard_negatives: \", num_hard_negatives)\n",
    "print(\"non_matches_a_descriptors: \", non_matches_a_descriptors.shape)\n",
    "\n",
    "# loss, match_loss, non_match_loss = \\\n",
    "#     PixelwiseContrastiveLoss.get_triplet_loss(image_a_pred,\n",
    "#                                         image_b_pred,\n",
    "#                                         matches_a.long(),\n",
    "#                                         matches_b.long(),\n",
    "#                                         non_matches_a.long(),\n",
    "#                                         non_matches_b.long(), \n",
    "#                                         alpha = alpha)"
   ]
  },
  {
   "cell_type": "code",
   "execution_count": 11,
   "metadata": {},
   "outputs": [],
   "source": [
    "# def scale_homography(H, shape, shift=(-1,-1)):\n",
    "#     height, width = shape[0], shape[1]\n",
    "#     trans = np.array([[2./width, 0., shift[0]], [0., 2./height, shift[1]], [0., 0., 1.]])\n",
    "#     H_tf = np.linalg.inv(trans) @ H @ trans\n",
    "#     return H_tf\n",
    "\n",
    "# def scale_homography_torch(H, shape, shift=(-1,-1), dtype=torch.float32):\n",
    "#     height, width = shape[0], shape[1]\n",
    "#     trans = torch.tensor([[2./width, 0., shift[0]], [0., 2./height, shift[1]], [0., 0., 1.]], dtype=dtype)\n",
    "#     print(\"torch.inverse(trans) \", torch.inverse(trans))\n",
    "#     print(\"H: \", H)\n",
    "#     H_tf = torch.inverse(trans) @ H @ trans\n",
    "#     return H_tf\n",
    "\n",
    "\n",
    "# # homographies = np.identity(3)[np.newaxis,:,:]\n",
    "# from utils.homographies import sample_homography_np as sample_homography\n",
    "\n",
    "# shape = np.array([2,2])\n",
    "# # homographies = sample_homography(shape, shift=-1)[np.newaxis,:,:]\n",
    "# homographies = sample_homography_batches(config, batch_size, shape=shape, tf=False)\n",
    "\n",
    "\n",
    "# height, width = 240, 320\n",
    "# image_shape = np.array([height, width])\n",
    "\n",
    "# homographies_H = np.stack([scale_homography(homographies, image_shape, shift=(-1,-1)) for H in homographies])\n",
    "# print(\"homographies_H: \", homographies_H)\n",
    "\n",
    "# homographies_H = np.stack([scale_homography_torch(torch.tensor(homographies, dtype=torch.float32), \n",
    "#                                                   image_shape, shift=(-1,-1)) for H in homographies])\n",
    "# print(\"homographies_H_torch: \", homographies_H)\n",
    "\n",
    "# print(\"homographies: \", homographies)\n",
    "\n",
    "# def plotHomography(homographies, height, width):\n",
    "#     import matplotlib.pyplot as plt\n",
    "#     from utils.utils import warp_points_np\n",
    "#     from utils.draw import drawBox\n",
    "    \n",
    "#     corner_img = np.array([(0, 0), (0, height), (width, height), (width, 0)])\n",
    "#     points = warp_points_np(corner_img, homographies)\n",
    "\n",
    "#     # plot shapes\n",
    "#     offset = np.array([height,width])\n",
    "#     img = np.zeros((height + offset[0]*2, width + offset[1]*2,3), np.uint8)\n",
    "#     img = drawBox(corner_img, img, color=(255,0,0), offset=offset)\n",
    "#     for i in range(points.shape[0]):\n",
    "#         img = drawBox(points[i,:,:], img, color=(0,255,0), offset=offset)\n",
    "#     print(\"print forward homographies\")\n",
    "#     plt.imshow(img)\n",
    "#     plt.show()\n",
    "    \n",
    "# plotHomography(homographies_H, height, width)"
   ]
  },
  {
   "cell_type": "code",
   "execution_count": 12,
   "metadata": {},
   "outputs": [
    {
     "name": "stdout",
     "output_type": "stream",
     "text": [
      "config path:  configs/superpoint_coco_test.yaml\n",
      "config:  {'data': {'name': 'coco', 'dataset': 'coco', 'labels': 'magicpoint_synth20_homoAdapt100_coco/predictions', 'cache_in_memory': False, 'validation_size': 10, 'preprocessing': {'resize': [240, 320]}, 'augmentation': {'photometric': {'enable': True, 'primitives': ['random_brightness', 'random_contrast', 'additive_speckle_noise', 'additive_gaussian_noise', 'additive_shade', 'motion_blur'], 'params': {'random_brightness': {'max_abs_change': 50}, 'random_contrast': {'strength_range': [0.5, 1.5]}, 'additive_gaussian_noise': {'stddev_range': [0, 10]}, 'additive_speckle_noise': {'prob_range': [0, 0.0035]}, 'additive_shade': {'transparency_range': [-0.5, 0.5], 'kernel_size_range': [100, 150]}, 'motion_blur': {'max_kernel_size': 3}}}, 'homographic': {'enable': False}}, 'warped_pair': {'enable': True, 'params': {'translation': True, 'rotation': True, 'scaling': True, 'perspective': True, 'scaling_amplitude': 0.2, 'perspective_amplitude_x': 0.2, 'perspective_amplitude_y': 0.2, 'patch_ratio': 0.85, 'max_angle': 1.57, 'allow_artifacts': True}, 'valid_border_margin': 3}}, 'model': {'name': 'magic_point', 'batch_size': 2, 'eval_batch_size': 2, 'learning_rate': 0.0001, 'detection_threshold': 0.015, 'descriptor_dist': 7.5, 'lambda_d': 800, 'lambda_loss': 1, 'nn_thresh': 2.0, 'nms': 4}, 'retrain': True, 'reset_iter': True, 'train_iter': 200, 'validation_interval': 100, 'save_interval': 40, 'pretrained': 'logs/superpoint_coco40_1/checkpoints/superPointNet_170000_checkpoint.pth.tar'}\n"
     ]
    }
   ],
   "source": [
    "def loadConfig(filename):\n",
    "    import yaml\n",
    "    with open(filename, 'r') as f:\n",
    "        config = yaml.load(f)\n",
    "    return config\n",
    "\n",
    "filename = 'configs/superpoint_coco_test.yaml'\n",
    "# filename = 'configs/magicpoint_repeatability.yaml'\n",
    "config = loadConfig(filename)\n",
    "print(\"config path: \", filename)\n",
    "print(\"config: \", config)"
   ]
  },
  {
   "cell_type": "markdown",
   "metadata": {},
   "source": [
    "### sample homography"
   ]
  },
  {
   "cell_type": "code",
   "execution_count": 13,
   "metadata": {},
   "outputs": [
    {
     "name": "stdout",
     "output_type": "stream",
     "text": [
      "homographies:  [[[ 1.39820652e-02  8.78843750e-01  7.30776572e-02]\n",
      "  [-9.08425345e-01  6.99839662e-04 -1.64110523e-01]\n",
      "  [ 1.81757503e-01 -6.24586614e-10  1.00000000e+00]]]\n"
     ]
    }
   ],
   "source": [
    "# sample homography\n",
    "def sample_homography_batches(config, batch_size=1, shape=np.array([1,1]), tf=False):\n",
    "    offset = 0\n",
    "    b = 2\n",
    "\n",
    "    if tf:\n",
    "        from utils.homographies import sample_homography as sample_homography\n",
    "#         shape = np.array([b, b])\n",
    "        mat_homographies = [sample_homography(shape,\n",
    "                                          **config['data']['augmentation']['homographic']['params']) for i in range(batch_size)]\n",
    "        \n",
    "#         mat_homographies = [scale_homography(sample_homography(shape,\n",
    "#                                           **config['data']['warped_pair']['params']), shape)\n",
    "#                                             for i in range(batch_size)]\n",
    "    else:\n",
    "        from utils.homographies import sample_homography_np as sample_homography\n",
    "        mat_homographies = [sample_homography(shape, shift=-1 + offset,\n",
    "                                          **config['data']['warped_pair']['params']) for i in range(batch_size)]\n",
    "    \n",
    "    mat_homographies = np.stack(mat_homographies, axis=0)\n",
    "    return mat_homographies\n",
    "\n",
    "# homographies = sample_homography_batches(config, shape = np.array([2,2]))\n",
    "homographies = sample_homography_batches(config, batch_size=1, shape=np.array([2,2]), tf=False)\n",
    "\n",
    "print(\"homographies: \", homographies)\n"
   ]
  },
  {
   "cell_type": "code",
   "execution_count": 32,
   "metadata": {},
   "outputs": [
    {
     "name": "stdout",
     "output_type": "stream",
     "text": [
      "homography visualization for my inplementation\n",
      "homographies:  [[[ 5.58618528e-01  1.52670420e-01 -1.02546750e+00]\n",
      "  [-3.74523367e-01  8.70181368e-01  1.24698397e+01]\n",
      "  [-1.65837289e-02  4.28585990e-10  1.33167457e+00]]]\n",
      "print forward homographies\n"
     ]
    },
    {
     "data": {
      "image/png": "[encoded data removed]",
      "text/plain": [
       "<Figure size 432x288 with 1 Axes>"
      ]
     },
     "metadata": {
      "needs_background": "light"
     },
     "output_type": "display_data"
    },
    {
     "name": "stdout",
     "output_type": "stream",
     "text": [
      "print inverse homographies\n"
     ]
    },
    {
     "data": {
      "image/png": "[encoded data removed]",
      "text/plain": [
       "<Figure size 432x288 with 1 Axes>"
      ]
     },
     "metadata": {
      "needs_background": "light"
     },
     "output_type": "display_data"
    }
   ],
   "source": [
    "# homography visualization for my inplementation\n",
    "print(\"homography visualization for my inplementation\")\n",
    "\n",
    "from utils.utils import warp_points_np\n",
    "from numpy.linalg import inv\n",
    "import matplotlib.pyplot as plt\n",
    "from utils.draw import drawBox\n",
    "from utils.homographies import scale_homography\n",
    "\n",
    "# sample homography\n",
    "batch_size = 1\n",
    "shape = np.array([2,2])\n",
    "homographies = sample_homography_batches(config, batch_size, shape=shape, tf=False)\n",
    "homographies_original = homographies.copy()\n",
    "\n",
    "# change shapes\n",
    "height, width = 30, 40\n",
    "image_shape = np.array([height, width])\n",
    "homographies = np.stack([scale_homography(H, image_shape, shift=(-1,-1)) for H in homographies])\n",
    "print(\"homographies: \", homographies)\n",
    "\n",
    "# warp points\n",
    "# from utils.utils import warp_points_np\n",
    "# corner_img = np.array([(0, 0), (height, 0), (height, width), (0, width)])\n",
    "corner_img = np.array([(0, 0), (0, height), (width, height), (width, 0)])\n",
    "points = warp_points_np(corner_img, homographies)\n",
    "\n",
    "# plot shapes\n",
    "offset = np.array([height,width])\n",
    "img = np.zeros((height + offset[0]*2, width + offset[1]*2,3), np.uint8)\n",
    "img = drawBox(corner_img, img, color=(255,0,0), offset=offset)\n",
    "for i in range(points.shape[0]):\n",
    "    img = drawBox(points[i,:,:], img, color=(0,255,0), offset=offset)\n",
    "print(\"print forward homographies\")\n",
    "plt.imshow(img)\n",
    "plt.show()\n",
    "\n",
    "#  inv_homography\n",
    "inv_homographies = np.stack([inv(H) for H in homographies])\n",
    "\n",
    "# warp points\n",
    "# from utils.utils import warp_points_np\n",
    "# corner_img = np.array([(0, 0), (height, 0), (height, width), (0, width)])\n",
    "corner_img = np.array([(0, 0), (0, height), (width, height), (width, 0)])\n",
    "points = warp_points_np(corner_img, inv_homographies)\n",
    "\n",
    "# plot shapes\n",
    "offset = np.array([height,width])\n",
    "img = np.zeros((height + offset[0]*2, width + offset[1]*2,3), np.uint8)\n",
    "img = drawBox(corner_img, img, color=(255,0,0), offset=offset)\n",
    "for i in range(points.shape[0]):\n",
    "    img = drawBox(points[i,:,:], img, color=(0,255,0), offset=offset)\n",
    "    \n",
    "print(\"print inverse homographies\")\n",
    "plt.imshow(img)\n",
    "\n",
    "plt.show()\n"
   ]
  },
  {
   "cell_type": "code",
   "execution_count": 58,
   "metadata": {
    "scrolled": true
   },
   "outputs": [
    {
     "name": "stdout",
     "output_type": "stream",
     "text": [
      "coor_cells:  tensor([[ 0.,  0.],\n",
      "        [ 1.,  0.],\n",
      "        [ 2.,  0.],\n",
      "        ...,\n",
      "        [37., 29.],\n",
      "        [38., 29.],\n",
      "        [39., 29.]])\n",
      "coor_cells:  torch.Size([1200, 2])\n",
      "matches_a:  torch.Size([2])\n",
      "matches_b:  torch.Size([2])\n"
     ]
    }
   ],
   "source": [
    "H, W = 240, 320\n",
    "cell_size = 8\n",
    "Hc, Wc = H//cell_size, W//cell_size\n",
    "\n",
    "device = 'cpu'\n",
    "\n",
    "def get_coor_cells(Hc, Wc, cell_size, device='cpu', uv=False):\n",
    "    coor_cells = torch.stack(torch.meshgrid(torch.arange(Hc), torch.arange(Wc)), dim=2)\n",
    "    coor_cells = coor_cells.type(torch.FloatTensor).to(device)\n",
    "    coor_cells = coor_cells.view(-1, 2)\n",
    "    # change vu to uv\n",
    "    if uv:\n",
    "        coor_cells = torch.stack((coor_cells[:,1], coor_cells[:,0]), dim=1) # (y, x) to (x, y)\n",
    "\n",
    "    return coor_cells.to(device)\n",
    "coor_cells = get_coor_cells(Hc, Wc, cell_size=cell_size, device=device, uv=True)\n",
    "print(\"coor_cells: \", coor_cells)\n",
    "print(\"coor_cells: \", coor_cells.shape)\n",
    "\n",
    "from utils.utils import filter_points\n",
    "filtered_points, mask = filter_points(coor_cells, torch.tensor([Wc, Hc]), return_mask=True)\n",
    "\n",
    "\n",
    "def warp_coor_cells_with_homographies(coor_cells, homographies, uv=False, device='cpu'):\n",
    "    from utils.utils import warp_points\n",
    "    # warped_coor_cells = warp_points(coor_cells.view([-1, 2]), homographies, device)\n",
    "    # warped_coor_cells = normPts(coor_cells.view([-1, 2]), shape)\n",
    "    warped_coor_cells = coor_cells\n",
    "    if uv == False:\n",
    "        warped_coor_cells = torch.stack((warped_coor_cells[:,1], warped_coor_cells[:,0]), dim=1) # (y, x) to (x, y)\n",
    "\n",
    "    # print(\"homographies: \", homographies)\n",
    "    warped_coor_cells = warp_points(warped_coor_cells, homographies, device)\n",
    "\n",
    "    if uv == False:\n",
    "        warped_coor_cells = torch.stack((warped_coor_cells[:, :, 1], warped_coor_cells[:, :, 0]), dim=2)  # (batch, x, y) to (batch, y, x)\n",
    "\n",
    "    # shape_cell = torch.tensor([H//cell_size, W//cell_size]).type(torch.FloatTensor).to(device)\n",
    "    # warped_coor_mask = denormPts(warped_coor_cells, shape_cell)\n",
    "\n",
    "    return warped_coor_cells\n",
    "\n",
    "\n",
    "\n",
    "matches_a = uvto1d(coor_cells, Hc)\n",
    "print(\"matches_a: \", matches_a.shape)\n",
    "\n",
    "matches_b = matches_a\n",
    "print(\"matches_b: \", matches_b.shape)\n"
   ]
  },
  {
   "cell_type": "code",
   "execution_count": 59,
   "metadata": {},
   "outputs": [
    {
     "name": "stdout",
     "output_type": "stream",
     "text": [
      "match_loss:  tensor(0.1613)\n",
      "matches_a_descriptors:  torch.Size([1, 2, 3])\n",
      "matches_b_descriptors:  torch.Size([1, 2, 3])\n"
     ]
    }
   ],
   "source": [
    "match_loss, matches_a_descriptors, matches_b_descriptors = \\\n",
    "    PixelwiseContrastiveLoss.match_loss(image_a_pred, image_b_pred, matches_a.long(), matches_b.long())\n",
    "print(\"match_loss: \", match_loss)\n",
    "print(\"matches_a_descriptors: \", matches_a_descriptors.shape)\n",
    "print(\"matches_b_descriptors: \", matches_b_descriptors.shape)"
   ]
  },
  {
   "cell_type": "code",
   "execution_count": 60,
   "metadata": {},
   "outputs": [],
   "source": [
    "def create_non_matches(uv_a, uv_b_non_matches, multiplier):\n",
    "    \"\"\"\n",
    "    Simple wrapper for repeated code\n",
    "    :param uv_a:\n",
    "    :type uv_a:\n",
    "    :param uv_b_non_matches:\n",
    "    :type uv_b_non_matches:\n",
    "    :param multiplier:\n",
    "    :type multiplier:\n",
    "    :return:\n",
    "    :rtype:\n",
    "    \"\"\"\n",
    "    uv_a_long = (torch.t(uv_a[0].repeat(multiplier, 1)).contiguous().view(-1, 1),\n",
    "                 torch.t(uv_a[1].repeat(multiplier, 1)).contiguous().view(-1, 1))\n",
    "\n",
    "    uv_b_non_matches_long = (uv_b_non_matches[0].view(-1, 1), uv_b_non_matches[1].view(-1, 1))\n",
    "\n",
    "    return uv_a_long, uv_b_non_matches_long"
   ]
  },
  {
   "cell_type": "markdown",
   "metadata": {},
   "source": [
    "## update sparse loss function"
   ]
  },
  {
   "cell_type": "code",
   "execution_count": 61,
   "metadata": {},
   "outputs": [],
   "source": [
    "# def descriptor_loss_sparse(descriptors, descriptors_warped, homographies, mask_valid=None,\n",
    "#                            cell_size=8, device='cpu', descriptor_dist=4, lamda_d=250,\n",
    "#                            num_matching_attempts=1000, num_masked_non_matches_per_match=10, **config):\n",
    "#     \"\"\"\n",
    "#     consider batches of descriptors\n",
    "#     :param descriptors:\n",
    "#         Output from descriptor head\n",
    "#         tensor [descriptors, Hc, Wc]\n",
    "#     :param descriptors_warped:\n",
    "#         Output from descriptor head of warped image\n",
    "#         tensor [descriptors, Hc, Wc]\n",
    "#     \"\"\"\n",
    "\n",
    "#     def uv_to_tuple(uv):\n",
    "#         return (uv[:, 0], uv[:, 1])\n",
    "\n",
    "#     def tuple_to_uv(uv_tuple):\n",
    "#         return torch.stack([uv_tuple[0], uv_tuple[1]], dim=-1).squeeze()\n",
    "\n",
    "#     def tuple_to_1d(uv_tuple, H):\n",
    "#         return uv_tuple[0] * H + uv_tuple[1]\n",
    "\n",
    "#     def uv_to_1d(points, H):\n",
    "#         # assert points.dim == 2\n",
    "#     #     print(\"points: \", points[0])\n",
    "#     #     print(\"H: \", H)\n",
    "#         return points[...,0]*H + points[...,1]\n",
    "\n",
    "#     from utils.utils import filter_points\n",
    "#     from utils.utils import crop_or_pad_choice\n",
    "\n",
    "#     Hc, Wc = descriptors.shape[1], descriptors.shape[2]\n",
    "#     img_shape = (Hc, Wc)\n",
    "    \n",
    "#     image_a_pred = descriptors.view(1, -1, Hc*Wc).transpose(1,2)  # torch [batch_size, H*W, D]\n",
    "#     print(\"image_a_pred: \", image_a_pred.shape)\n",
    "#     image_b_pred = descriptors_warped.view(1, -1, Hc*Wc).transpose(1,2)  # torch [batch_size, H*W, D]\n",
    "#     print(\"image_a_pred: \", image_a_pred.shape)\n",
    "\n",
    "#     # matches\n",
    "#     ## sample points (implement sampling later)\n",
    "#     ## warp points\n",
    "#         # coor_cell\n",
    "#     uv_a = get_coor_cells(Hc, Wc, cell_size, uv=True)\n",
    "#     print(\"uv_a: \", uv_a.shape)\n",
    "#         # warp coor_cell\n",
    "# #     homographies_H = \n",
    "# #     homographies_H = np.stack([scale_homography_torch(homographies, image_shape, shift=(-1,-1)) for H in homographies])\n",
    "#     homographies_H = scale_homography_torch(homographies, image_shape, shift=(-1,-1))\n",
    "#     print(\"homographies_H: \", homographies_H)\n",
    "    \n",
    "#     uv_b_matches = warp_coor_cells_with_homographies(uv_a, homographies_H, uv=True)\n",
    "#     uv_b_matches = uv_b_matches.squeeze(0)\n",
    "#     print(\"uv_b_matches: \", uv_b_matches.shape)\n",
    "#     print(\"uv_b_matches all: \", uv_b_matches)\n",
    "\n",
    "#     # filtering!!!\n",
    "#     # choice = crop_or_pad_choice(x_all.shape[0], self.sift_num, shuffle=True)\n",
    "\n",
    "#     uv_b_matches, mask = filter_points(uv_b_matches, torch.tensor([Wc, Hc]), return_mask=True)\n",
    "\n",
    "#     # batch the uv_a\n",
    "#     # uv_a = uv_a.unsqueeze(0).repeat(batch_size, 1, 1)\n",
    "#     uv_a = uv_a[mask]\n",
    "\n",
    "#     # unsqueeze to batch\n",
    "#     # if batch_size == 1:\n",
    "#     #     uv_a = uv_a.unsqueeze(0)\n",
    "#     #     uv_b_matches = uv_b_matches.unsqueeze(0)\n",
    "\n",
    "#     # crop to the same length\n",
    "#     print(\"shuffle = false\")\n",
    "#     choice = crop_or_pad_choice(uv_b_matches.shape[0], num_matching_attempts, shuffle=False)\n",
    "#     choice = torch.tensor(choice)\n",
    "#     uv_a =         uv_a[choice]\n",
    "#     uv_b_matches = uv_b_matches[choice]\n",
    "\n",
    "#     matches_a = uv_to_1d(uv_a, Hc)\n",
    "#     print(\"matches_a: \", matches_a.shape)\n",
    "#     matches_b = uv_to_1d(uv_b_matches, Hc)\n",
    "#     print(\"matches_b: \", matches_b.shape)\n",
    "# #     print(\"matches_b max: \", matches_b.max())\n",
    "\n",
    "#     # matches_a = matches_a.squeeze()\n",
    "#     # matches_b = matches_b.squeeze()\n",
    "#     # matches_a = matches_a[0, ...]\n",
    "#     # matches_b = matches_b[0, ...]\n",
    "\n",
    "\n",
    "#     ## select from descriptor\n",
    "#     # def get_match_loss\n",
    "#     ## calculate matches loss\n",
    "#     def get_match_loss(image_a_pred, image_b_pred, matches_a, matches_b):\n",
    "#         match_loss, matches_a_descriptors, matches_b_descriptors = \\\n",
    "#             PixelwiseContrastiveLoss.match_loss(image_a_pred, image_b_pred, matches_a.long(), matches_b.long())\n",
    "#         print(\"matches_a_descriptors: \", matches_a_descriptors.shape)\n",
    "#         return match_loss\n",
    "\n",
    "#     # batch_match_loss = torch.stack([get_match_loss(image_a_pred[i], image_b_pred[i], matches_a[i], matches_b[i])\n",
    "#     #                                          for i in range(batch_size)])\n",
    "\n",
    "#     match_loss = get_match_loss(image_a_pred, image_b_pred, matches_a, matches_b)\n",
    "\n",
    "#     # non matches\n",
    "\n",
    "#     def get_non_matches_corr(img_b_shape, uv_a, uv_b_matches, num_masked_non_matches_per_match=10):\n",
    "#         ## sample non matches\n",
    "#         uv_b_matches = uv_b_matches.squeeze()\n",
    "#         uv_b_matches_tuple = uv_to_tuple(uv_b_matches)\n",
    "#     #     print(\"uv_b_matches \", uv_b_matches.shape)\n",
    "# #         print(\"img_b_shape \", img_b_shape)\n",
    "#         uv_b_non_matches_tuple = correspondence_finder.create_non_correspondences(uv_b_matches_tuple,\n",
    "#                         img_b_shape, num_non_matches_per_match=num_masked_non_matches_per_match, img_b_mask=None)\n",
    "\n",
    "#         ## create_non_correspondences\n",
    "# #         print(\"uv_a: \", uv_to_tuple(uv_a))\n",
    "# #         print(\"uv_b_non_matches: \", uv_b_non_matches)\n",
    "#     #     print(\"uv_b_non_matches: \", tensorUv2tuple(uv_b_non_matches))\n",
    "#         uv_a_tuple, uv_b_non_matches_tuple = \\\n",
    "#             create_non_matches(uv_to_tuple(uv_a), uv_b_non_matches_tuple, num_masked_non_matches_per_match)\n",
    "#         return uv_a_tuple, uv_b_non_matches_tuple\n",
    "\n",
    "\n",
    "#     def get_non_match_loss(image_a_pred, image_b_pred, non_matches_a, non_matches_b):\n",
    "#         ## non matches loss\n",
    "#         non_match_loss, num_hard_negatives, non_matches_a_descriptors, non_matches_b_descriptors = \\\n",
    "#                         PixelwiseContrastiveLoss.non_match_descriptor_loss(image_a_pred, image_b_pred,\n",
    "#                                                    non_matches_a.long().squeeze(), non_matches_b.long().squeeze())\n",
    "#         return non_match_loss\n",
    "\n",
    "#     # get non matches correspondence\n",
    "#     uv_a_tuple, uv_b_non_matches_tuple = get_non_matches_corr(img_shape,\n",
    "#                                      uv_a, uv_b_matches,\n",
    "#                                      num_masked_non_matches_per_match=num_masked_non_matches_per_match)\n",
    "\n",
    "#     non_matches_a = tuple_to_1d(uv_a_tuple, Hc)\n",
    "#     non_matches_b = tuple_to_1d(uv_b_non_matches_tuple, Hc)\n",
    "\n",
    "# #     print(\"non_matches_a: \", non_matches_a)\n",
    "# #     print(\"non_matches_b: \", non_matches_b)\n",
    "\n",
    "#     non_match_loss = get_non_match_loss(image_a_pred, image_b_pred, non_matches_a, non_matches_a)\n",
    "#     non_match_loss = non_match_loss.mean()\n",
    "\n",
    "#     # batch_non_match_loss = []\n",
    "#     # for i in range(batch_size):\n",
    "#     #     # get non matches correspondence\n",
    "#     #     uv_a_tuple, uv_b_non_matches_tuple = get_non_matches_corr(img_b_shape,\n",
    "#     #                                      batch_uv_a[i], uv_b_non_matches[i],\n",
    "#     #                                      num_masked_non_matches_per_match=num_masked_non_matches_per_match)\n",
    "#     #\n",
    "#     #     non_matches_a = tuple_to_1d(uv_a_tuple, Hc)\n",
    "#     #     non_matches_b = tuple_to_1d(uv_b_non_matches_tuple, Hc)\n",
    "#     #\n",
    "#     #     print(\"non_matches_a: \", non_matches_a)\n",
    "#     #     print(\"non_matches_b: \", non_matches_b)\n",
    "#     #\n",
    "#     #     non_match_loss = torch.stack([get_non_match_loss(image_a_pred[i], image_b_pred[i],\n",
    "#     #                                          non_matches_a[i], non_matches_a[i])\n",
    "#     #                                          for i in range(batch_size)])\n",
    "#     #     batch_non_match_loss.append(non_match_loss)\n",
    "\n",
    "#     # batch_match_loss = batch_match_loss.mean()\n",
    "#     # batch_non_match_loss = torch.stack(batch_non_match_loss).mean()\n",
    "\n",
    "#     loss = lamda_d*match_loss + non_match_loss\n",
    "#     print(\"plot matches and non matches\")\n",
    "#     return uv_a, uv_b_matches, tuple_to_uv(uv_a_tuple), tuple_to_uv(uv_b_non_matches_tuple)\n",
    "# #     return uv_a, uv_b_matches\n",
    "# #     return loss\n",
    "#     pass\n",
    "\n",
    "\n",
    "\n",
    "\n"
   ]
  },
  {
   "cell_type": "markdown",
   "metadata": {},
   "source": [
    "## New version"
   ]
  },
  {
   "cell_type": "code",
   "execution_count": 64,
   "metadata": {},
   "outputs": [],
   "source": [
    "def descriptor_loss_sparse(descriptors, descriptors_warped, homographies, mask_valid=None,\n",
    "                           cell_size=8, device='cpu', descriptor_dist=4, lamda_d=250,\n",
    "                           num_matching_attempts=1000, num_masked_non_matches_per_match=10, \n",
    "                           dist='cos', **config):\n",
    "    \"\"\"\n",
    "    consider batches of descriptors\n",
    "    :param descriptors:\n",
    "        Output from descriptor head\n",
    "        tensor [descriptors, Hc, Wc]\n",
    "    :param descriptors_warped:\n",
    "        Output from descriptor head of warped image\n",
    "        tensor [descriptors, Hc, Wc]\n",
    "    \"\"\"\n",
    "\n",
    "    def uv_to_tuple(uv):\n",
    "        return (uv[:, 0], uv[:, 1])\n",
    "\n",
    "    def tuple_to_uv(uv_tuple):\n",
    "        return torch.stack([uv_tuple[0], uv_tuple[1]])\n",
    "\n",
    "    def tuple_to_1d(uv_tuple, H):\n",
    "        return uv_tuple[0] * H + uv_tuple[1]\n",
    "\n",
    "    def uv_to_1d(points, H):\n",
    "        # assert points.dim == 2\n",
    "        #     print(\"points: \", points[0])\n",
    "        #     print(\"H: \", H)\n",
    "        return points[..., 0] * H + points[..., 1]\n",
    "\n",
    "    ## calculate matches loss\n",
    "    def get_match_loss(image_a_pred, image_b_pred, matches_a, matches_b, dist='cos'):\n",
    "        match_loss, matches_a_descriptors, matches_b_descriptors = \\\n",
    "            PixelwiseContrastiveLoss.match_loss(image_a_pred, image_b_pred, \n",
    "                matches_a.long(), matches_b.long(), dist=dist)\n",
    "        return match_loss\n",
    "\n",
    "    def get_non_matches_corr(img_b_shape, uv_a, uv_b_matches, num_masked_non_matches_per_match=10, device='cpu'):\n",
    "        ## sample non matches\n",
    "        uv_b_matches = uv_b_matches.squeeze()\n",
    "        uv_b_matches_tuple = uv_to_tuple(uv_b_matches)\n",
    "        uv_b_non_matches_tuple = correspondence_finder.create_non_correspondences(uv_b_matches_tuple,\n",
    "                                        img_b_shape, num_non_matches_per_match=num_masked_non_matches_per_match,\n",
    "                                        img_b_mask=None)\n",
    "\n",
    "        ## create_non_correspondences\n",
    "        #     print(\"img_b_shape \", img_b_shape)\n",
    "        #     print(\"uv_b_matches \", uv_b_matches.shape)\n",
    "        # print(\"uv_a: \", uv_to_tuple(uv_a))\n",
    "        # print(\"uv_b_non_matches: \", uv_b_non_matches)\n",
    "        #     print(\"uv_b_non_matches: \", tensorUv2tuple(uv_b_non_matches))\n",
    "        uv_a_tuple, uv_b_non_matches_tuple = \\\n",
    "            create_non_matches(uv_to_tuple(uv_a), uv_b_non_matches_tuple, num_masked_non_matches_per_match)\n",
    "        return uv_a_tuple, uv_b_non_matches_tuple\n",
    "\n",
    "    def get_non_match_loss(image_a_pred, image_b_pred, non_matches_a, non_matches_b, dist='cos'):\n",
    "        ## non matches loss\n",
    "        non_match_loss, num_hard_negatives, non_matches_a_descriptors, non_matches_b_descriptors = \\\n",
    "            PixelwiseContrastiveLoss.non_match_descriptor_loss(image_a_pred, image_b_pred,\n",
    "                                                               non_matches_a.long().squeeze(),\n",
    "                                                               non_matches_b.long().squeeze(),\n",
    "                                                               M=0.2, invert=True, dist=dist)\n",
    "        non_match_loss = non_match_loss.sum()/(num_hard_negatives + 1)\n",
    "        return non_match_loss\n",
    "\n",
    "    from utils.utils import filter_points\n",
    "    from utils.utils import crop_or_pad_choice\n",
    "\n",
    "    # ##### print configs\n",
    "    # print(\"num_masked_non_matches_per_match: \", num_masked_non_matches_per_match)\n",
    "    # print(\"num_matching_attempts: \", num_matching_attempts)\n",
    "    # dist = 'cos'\n",
    "\n",
    "    Hc, Wc = descriptors.shape[1], descriptors.shape[2]\n",
    "    img_shape = (Hc, Wc)\n",
    "    # print(\"img_shape: \", img_shape)\n",
    "    # img_shape_cpu = (Hc.to('cpu'), Wc.to('cpu'))\n",
    "\n",
    "    image_a_pred = descriptors.view(1, -1, Hc * Wc).transpose(1, 2)  # torch [batch_size, H*W, D]\n",
    "    # print(\"image_a_pred: \", image_a_pred.shape)\n",
    "    image_b_pred = descriptors_warped.view(1, -1, Hc * Wc).transpose(1, 2)  # torch [batch_size, H*W, D]\n",
    "\n",
    "    # matches\n",
    "    uv_a = get_coor_cells(Hc, Wc, cell_size, uv=True, device='cpu')\n",
    "    # print(\"uv_a: \", uv_a[0])\n",
    "\n",
    "    homographies_H = scale_homography_torch(homographies, img_shape, shift=(-1, -1))\n",
    "\n",
    "    # print(\"experiment inverse homographies\")\n",
    "    # homographies_H = torch.stack([torch.inverse(H) for H in homographies_H])\n",
    "    # print(\"homographies_H: \", homographies_H.shape)\n",
    "    # homographies_H = torch.inverse(homographies_H)\n",
    "\n",
    "\n",
    "    uv_b_matches = warp_coor_cells_with_homographies(uv_a, homographies_H.to('cpu'), uv=True, device='cpu')\n",
    "    # \n",
    "    # print(\"uv_b_matches before round: \", uv_b_matches[0])\n",
    "\n",
    "    uv_b_matches.round_() \n",
    "    # print(\"uv_b_matches after round: \", uv_b_matches[0])\n",
    "    uv_b_matches = uv_b_matches.squeeze(0)\n",
    "\n",
    "\n",
    "    # filtering out of range points\n",
    "    # choice = crop_or_pad_choice(x_all.shape[0], self.sift_num, shuffle=True)\n",
    "\n",
    "    uv_b_matches, mask = filter_points(uv_b_matches, torch.tensor([Wc, Hc]).to(device='cpu'), return_mask=True)\n",
    "    print (\"pos mask sum: \", mask.sum())\n",
    "    uv_a = uv_a[mask]\n",
    "\n",
    "    # crop to the same length\n",
    "    choice = crop_or_pad_choice(uv_b_matches.shape[0], num_matching_attempts, shuffle=True)\n",
    "    choice = torch.tensor(choice)\n",
    "    uv_a = uv_a[choice]\n",
    "    uv_b_matches = uv_b_matches[choice]\n",
    "\n",
    "    matches_a = uv_to_1d(uv_a, Hc)\n",
    "    matches_b = uv_to_1d(uv_b_matches, Hc)\n",
    "\n",
    "    # print(\"matches_a: \", matches_a.shape)\n",
    "    # print(\"matches_b: \", matches_b.shape)\n",
    "    # print(\"matches_b max: \", matches_b.max())\n",
    "\n",
    "    match_loss = get_match_loss(image_a_pred, image_b_pred, matches_a.to(device), matches_b.to(device), dist=dist)\n",
    "\n",
    "    # non matches\n",
    "\n",
    "    # get non matches correspondence\n",
    "    uv_a_tuple, uv_b_non_matches_tuple = get_non_matches_corr(img_shape,\n",
    "                                            uv_a, uv_b_matches,\n",
    "                                            num_masked_non_matches_per_match=num_masked_non_matches_per_match)\n",
    "\n",
    "    non_matches_a = tuple_to_1d(uv_a_tuple, Hc)\n",
    "    non_matches_b = tuple_to_1d(uv_b_non_matches_tuple, Hc)\n",
    "\n",
    "    # print(\"non_matches_a: \", non_matches_a)\n",
    "    # print(\"non_matches_b: \", non_matches_b)\n",
    "\n",
    "    non_match_loss = get_non_match_loss(image_a_pred, image_b_pred, non_matches_a.to(device),\n",
    "                                        non_matches_b.to(device), dist=dist)\n",
    "    # non_match_loss = non_match_loss.mean()\n",
    "\n",
    "    loss = lamda_d * match_loss + non_match_loss\n",
    "    return uv_a, uv_b_matches, tuple_to_uv(uv_a_tuple), tuple_to_uv(uv_b_non_matches_tuple)\n",
    "    \n",
    "#     return loss, lamda_d * match_loss, non_match_loss\n",
    "    pass"
   ]
  },
  {
   "cell_type": "code",
   "execution_count": 65,
   "metadata": {
    "scrolled": true
   },
   "outputs": [
    {
     "name": "stdout",
     "output_type": "stream",
     "text": [
      "homographies_original:  [[[ 8.90293106e-01  1.14502809e-01 -3.78152032e-01]\n",
      "  [-1.67689912e-01  8.70181362e-01  2.02139527e-01]\n",
      "  [-3.31674577e-01  6.42878985e-09  1.00000000e+00]]]\n",
      "descriptors:  torch.Size([1, 3, 30, 40])\n",
      "pos mask sum:  tensor(1130)\n",
      "descriptor_loss:  (tensor([[13.,  7.],\n",
      "        [32., 20.],\n",
      "        [33., 14.],\n",
      "        ...,\n",
      "        [ 2., 17.],\n",
      "        [18., 28.],\n",
      "        [13., 16.]]), tensor([[ 7., 12.],\n",
      "        [25., 22.],\n",
      "        [25., 16.],\n",
      "        ...,\n",
      "        [ 2., 20.],\n",
      "        [13., 29.],\n",
      "        [ 8., 19.]]), tensor([[[13.],\n",
      "         [13.],\n",
      "         [13.],\n",
      "         ...,\n",
      "         [13.],\n",
      "         [13.],\n",
      "         [13.]],\n",
      "\n",
      "        [[ 7.],\n",
      "         [ 7.],\n",
      "         [ 7.],\n",
      "         ...,\n",
      "         [16.],\n",
      "         [16.],\n",
      "         [16.]]]), tensor([[[26.],\n",
      "         [35.],\n",
      "         [12.],\n",
      "         ...,\n",
      "         [23.],\n",
      "         [ 0.],\n",
      "         [11.]],\n",
      "\n",
      "        [[26.],\n",
      "         [17.],\n",
      "         [18.],\n",
      "         ...,\n",
      "         [16.],\n",
      "         [27.],\n",
      "         [21.]]]))\n",
      "pos mask sum:  tensor(1130)\n",
      "descriptor_loss test same input:  (tensor([[15., 13.],\n",
      "        [ 5., 18.],\n",
      "        [27., 24.],\n",
      "        ...,\n",
      "        [17.,  7.],\n",
      "        [35., 20.],\n",
      "        [31., 11.]]), tensor([[ 9., 17.],\n",
      "        [ 4., 21.],\n",
      "        [20., 26.],\n",
      "        ...,\n",
      "        [ 9., 12.],\n",
      "        [29., 22.],\n",
      "        [22., 13.]]), tensor([[[15.],\n",
      "         [15.],\n",
      "         [15.],\n",
      "         ...,\n",
      "         [31.],\n",
      "         [31.],\n",
      "         [31.]],\n",
      "\n",
      "        [[13.],\n",
      "         [13.],\n",
      "         [13.],\n",
      "         ...,\n",
      "         [11.],\n",
      "         [11.],\n",
      "         [11.]]]), tensor([[[38.],\n",
      "         [ 7.],\n",
      "         [27.],\n",
      "         ...,\n",
      "         [17.],\n",
      "         [ 9.],\n",
      "         [ 3.]],\n",
      "\n",
      "        [[15.],\n",
      "         [11.],\n",
      "         [12.],\n",
      "         ...,\n",
      "         [12.],\n",
      "         [ 1.],\n",
      "         [28.]]]))\n"
     ]
    }
   ],
   "source": [
    "print(\"homographies_original: \", homographies_original)\n",
    "\n",
    "descriptors = torch.tensor(np.random.rand(1, D, Hc, Wc), dtype=torch.float32)\n",
    "print(\"descriptors: \", descriptors.shape)\n",
    "descriptors_warped = torch.tensor(np.random.rand(1, D, Hc, Wc), dtype=torch.float32)\n",
    "descriptor_loss = descriptor_loss_sparse(descriptors[0], descriptors_warped[0], torch.tensor(homographies_original[0], dtype=torch.float32))\n",
    "print(\"descriptor_loss: \", descriptor_loss)\n",
    "descriptor_loss = descriptor_loss_sparse(descriptors[0], descriptors[0], torch.tensor(homographies_original[0], dtype=torch.float32))\n",
    "print(\"descriptor_loss test same input: \", descriptor_loss)"
   ]
  },
  {
   "cell_type": "markdown",
   "metadata": {},
   "source": [
    "## visualize one pixel's matching and non matching"
   ]
  },
  {
   "cell_type": "code",
   "execution_count": 66,
   "metadata": {
    "scrolled": true
   },
   "outputs": [
    {
     "name": "stdout",
     "output_type": "stream",
     "text": [
      "pos mask sum:  tensor(1130)\n"
     ]
    }
   ],
   "source": [
    "from utils.draw import draw_matches\n",
    "from utils.homographies import scale_homography_torch\n",
    "\n",
    "uv_a, uv_b_matches, uv_a_non_matches, uv_b_non_matches  = descriptor_loss_sparse(descriptors[0], \n",
    "            descriptors_warped[0], torch.tensor(homographies_original[0], dtype=torch.float32))\n",
    "rgb1 = descriptors[0,0,:,:]\n",
    "rgb2 = descriptors_warped[0,0,:,:]\n",
    "\n"
   ]
  },
  {
   "cell_type": "code",
   "execution_count": 67,
   "metadata": {},
   "outputs": [
    {
     "name": "stdout",
     "output_type": "stream",
     "text": [
      "uv_a:  torch.Size([1000, 2])\n",
      "match_pairs:  torch.Size([1000, 4])\n"
     ]
    }
   ],
   "source": [
    "print(\"uv_a: \", uv_a.shape)\n",
    "match_pairs = torch.cat((uv_a, uv_b_matches), dim=1)\n",
    "print(\"match_pairs: \", match_pairs.shape)\n"
   ]
  },
  {
   "cell_type": "code",
   "execution_count": 69,
   "metadata": {
    "scrolled": true
   },
   "outputs": [
    {
     "name": "stdout",
     "output_type": "stream",
     "text": [
      "#Matches = 500\n"
     ]
    },
    {
     "data": {
      "image/png": "[encoded data removed]",
      "text/plain": [
       "<Figure size 432x288 with 1 Axes>"
      ]
     },
     "metadata": {
      "needs_background": "light"
     },
     "output_type": "display_data"
    }
   ],
   "source": [
    "samples_s = 500\n",
    "samples_e = 1000\n",
    "draw_matches(rgb1.numpy(), rgb2.numpy(), match_pairs[samples_s:samples_e].numpy(), filename='matches.png', show=True)"
   ]
  },
  {
   "cell_type": "code",
   "execution_count": 26,
   "metadata": {},
   "outputs": [
    {
     "name": "stdout",
     "output_type": "stream",
     "text": [
      "uv_a_non_matches:  torch.Size([10000, 2])\n",
      "match_pairs:  torch.Size([10000, 4])\n"
     ]
    }
   ],
   "source": [
    "print(\"uv_a_non_matches: \", uv_a_non_matches.shape)\n",
    "match_pairs = torch.cat((uv_a_non_matches, uv_b_non_matches), dim=1)\n",
    "print(\"match_pairs: \", match_pairs.shape)\n"
   ]
  },
  {
   "cell_type": "code",
   "execution_count": null,
   "metadata": {},
   "outputs": [],
   "source": [
    "samples = 100\n",
    "draw_matches(rgb1.numpy(), rgb2.numpy(), match_pairs[:samples].numpy(), filename='matches.png', show=True)"
   ]
  },
  {
   "cell_type": "code",
   "execution_count": null,
   "metadata": {},
   "outputs": [],
   "source": [
    "print(\"homographies: \", homographies.shape)"
   ]
  },
  {
   "cell_type": "code",
   "execution_count": null,
   "metadata": {
    "scrolled": false
   },
   "outputs": [],
   "source": [
    "uv_a_masked_long, uv_b_masked_non_matches_long = \\\n",
    "        self.create_non_matches(matches_1, matches_2_masked_non_matches, self.num_masked_non_matches_per_match)"
   ]
  },
  {
   "cell_type": "code",
   "execution_count": null,
   "metadata": {},
   "outputs": [],
   "source": [
    "matches_a.long().type()"
   ]
  },
  {
   "cell_type": "code",
   "execution_count": null,
   "metadata": {},
   "outputs": [],
   "source": [
    "def compute_loss_on_dataset(dcn, data_loader, loss_config, num_iterations=500,):\n",
    "    \"\"\"\n",
    "\n",
    "    Computes the loss for the given number of iterations\n",
    "\n",
    "    :param dcn:\n",
    "    :type dcn:\n",
    "    :param data_loader:\n",
    "    :type data_loader:\n",
    "    :param num_iterations:\n",
    "    :type num_iterations:\n",
    "    :return:\n",
    "    :rtype:\n",
    "    \"\"\"\n",
    "    dcn.eval()\n",
    "\n",
    "    # loss_vec = np.zeros(num_iterations)\n",
    "    loss_vec = []\n",
    "    match_loss_vec = []\n",
    "    non_match_loss_vec = []\n",
    "    counter = 0\n",
    "    pixelwise_contrastive_loss = PixelwiseContrastiveLoss(dcn.image_shape, config=loss_config)\n",
    "\n",
    "    batch_size = 1\n",
    "\n",
    "    for i, data in enumerate(data_loader, 0):\n",
    "\n",
    "        # get the inputs\n",
    "        data_type, img_a, img_b, matches_a, matches_b, non_matches_a, non_matches_b, metadata = data\n",
    "        data_type = data_type[0]\n",
    "\n",
    "        if len(matches_a[0]) == 0:\n",
    "            print (\"didn't have any matches, continuing\")\n",
    "            continue\n",
    "\n",
    "        img_a = Variable(img_a.cuda(), requires_grad=False)\n",
    "        img_b = Variable(img_b.cuda(), requires_grad=False)\n",
    "\n",
    "        if data_type == \"matches\":\n",
    "            matches_a = Variable(matches_a.cuda().squeeze(0), requires_grad=False)\n",
    "            matches_b = Variable(matches_b.cuda().squeeze(0), requires_grad=False)\n",
    "            non_matches_a = Variable(non_matches_a.cuda().squeeze(0), requires_grad=False)\n",
    "            non_matches_b = Variable(non_matches_b.cuda().squeeze(0), requires_grad=False)\n",
    "\n",
    "        # run both images through the network\n",
    "        image_a_pred = dcn.forward(img_a)\n",
    "        image_a_pred = dcn.process_network_output(image_a_pred, batch_size)\n",
    "\n",
    "        image_b_pred = dcn.forward(img_b)\n",
    "        image_b_pred = dcn.process_network_output(image_b_pred, batch_size)\n",
    "\n",
    "        # get loss\n",
    "        if data_type == \"matches\":\n",
    "            loss, match_loss, non_match_loss = \\\n",
    "                pixelwise_contrastive_loss.get_loss(image_a_pred,\n",
    "                                                    image_b_pred,\n",
    "                                                    matches_a,\n",
    "                                                    matches_b,\n",
    "                                                    non_matches_a,\n",
    "                                                    non_matches_b)\n",
    "\n",
    "\n",
    "\n",
    "            loss_vec.append(loss.data[0])\n",
    "            non_match_loss_vec.append(non_match_loss.data[0])\n",
    "            match_loss_vec.append(match_loss.data[0])\n",
    "\n",
    "\n",
    "        if i > num_iterations:\n",
    "            break\n",
    "\n",
    "    loss_vec = np.array(loss_vec)\n",
    "    match_loss_vec = np.array(match_loss_vec)\n",
    "    non_match_loss_vec = np.array(non_match_loss_vec)\n",
    "\n",
    "    loss = np.average(loss_vec)\n",
    "    match_loss = np.average(match_loss_vec)\n",
    "    non_match_loss = np.average(non_match_loss_vec)\n",
    "\n",
    "    return loss, match_loss, non_match_loss\n"
   ]
  }
 ],
 "metadata": {
  "kernelspec": {
   "display_name": "py36_pytorch",
   "language": "python",
   "name": "py36_pytorch"
  },
  "language_info": {
   "codemirror_mode": {
    "name": "ipython",
    "version": 3
   },
   "file_extension": ".py",
   "mimetype": "text/x-python",
   "name": "python",
   "nbconvert_exporter": "python",
   "pygments_lexer": "ipython3",
   "version": "3.6.7"
  }
 },
 "nbformat": 4,
 "nbformat_minor": 2
}
